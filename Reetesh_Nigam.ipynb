{
 "cells": [
  {
   "cell_type": "markdown",
   "id": "97e77ee2-7369-458b-bd91-3f41a4fa5486",
   "metadata": {},
   "source": [
    "# Lending Club Case Study\n",
    "--------------------------\n",
    "## Business Objective:\n",
    "- Analyze the past customer data which defaulted the loan\n",
    "- Identify the variables/columns which contributed to loan defaulters\n",
    "- Conclude the analysis by providing the recommendations\n",
    "    - i.e. Avoid/reduce lending loan to customers falling into above variables categories\n",
    "\n",
    "------------------------\n",
    "\n",
    "## Approach to solve the Problem\n",
    "#### Data Sourcing\n",
    "- Data is already provided for this study.\n",
    "#### Data Understanding\n",
    "- Identify and Report data quality issue\n",
    "- Interpret the variable value and write in comment\n",
    "#### Data Cleaning\n",
    "- Fixing Rows & Columns\n",
    "    - Delete summary/extra rows\n",
    "    - Delete unidentified/null columns\n",
    "- Fill missing values\n",
    "- Convert incorrect data type\n",
    "- Filtering\n",
    "    - Delete columns that are irrevelant\n",
    "\n",
    "### Univariate Analysis\n",
    "Approach: Analyze single variable using:\n",
    "- Summary Statistics\n",
    "- Histograms\n",
    "- Box plots\n",
    "  - Remove outliers\n",
    "- Density plot\n",
    "\n",
    "### Segmented Univariate Analysis\n",
    "Approach:\n",
    "- Analyze single variable using:\n",
    "    - Summary Statistics\n",
    "    - Histograms\n",
    "    - Box plots\n",
    "        - Remove outliers\n",
    "    - Density plot\n",
    " \n",
    "### bivariate Analysis\n",
    "Approach:\n",
    "- Analyze single variable using:\n",
    "    - Scatter plots\n",
    "    - Correlation coefficient\n",
    "    - Line plots"
   ]
  },
  {
   "cell_type": "markdown",
   "id": "f236838c-c360-4821-a2b2-c33c8076e061",
   "metadata": {},
   "source": [
    "##### Import Libraries"
   ]
  },
  {
   "cell_type": "code",
   "execution_count": 86,
   "id": "5221e3ad-2044-4849-93c1-25bc486602fb",
   "metadata": {},
   "outputs": [],
   "source": [
    "import numpy as np\n",
    "import pandas as pd\n",
    "import matplotlib.pyplot as plt\n",
    "import seaborn as sns\n",
    "import warnings\n",
    "warnings.filterwarnings(\"ignore\")\n",
    "pd.options.display.max_columns=None\n",
    "pd.options.display.max_rows=None"
   ]
  },
  {
   "cell_type": "markdown",
   "id": "b7e43d05-2ebe-44e6-9c19-ef0de2543732",
   "metadata": {},
   "source": [
    "##### Import the lending club data"
   ]
  },
  {
   "cell_type": "code",
   "execution_count": 87,
   "id": "6d09a055-3a20-4e7e-851b-62c829804c75",
   "metadata": {},
   "outputs": [],
   "source": [
    "# Load the data with low memory to avoid multiple data type error\n",
    "data = pd.read_csv('loan.csv', low_memory=False)"
   ]
  },
  {
   "cell_type": "code",
   "execution_count": 88,
   "id": "0fda8936-0b30-4d3e-b7ca-2772e71a92f6",
   "metadata": {},
   "outputs": [
    {
     "data": {
      "text/html": [
       "<div>\n",
       "<style scoped>\n",
       "    .dataframe tbody tr th:only-of-type {\n",
       "        vertical-align: middle;\n",
       "    }\n",
       "\n",
       "    .dataframe tbody tr th {\n",
       "        vertical-align: top;\n",
       "    }\n",
       "\n",
       "    .dataframe thead th {\n",
       "        text-align: right;\n",
       "    }\n",
       "</style>\n",
       "<table border=\"1\" class=\"dataframe\">\n",
       "  <thead>\n",
       "    <tr style=\"text-align: right;\">\n",
       "      <th></th>\n",
       "      <th>id</th>\n",
       "      <th>member_id</th>\n",
       "      <th>loan_amnt</th>\n",
       "      <th>funded_amnt</th>\n",
       "      <th>funded_amnt_inv</th>\n",
       "      <th>term</th>\n",
       "      <th>int_rate</th>\n",
       "      <th>installment</th>\n",
       "      <th>grade</th>\n",
       "      <th>sub_grade</th>\n",
       "      <th>emp_title</th>\n",
       "      <th>emp_length</th>\n",
       "      <th>home_ownership</th>\n",
       "      <th>annual_inc</th>\n",
       "      <th>verification_status</th>\n",
       "      <th>issue_d</th>\n",
       "      <th>loan_status</th>\n",
       "      <th>pymnt_plan</th>\n",
       "      <th>url</th>\n",
       "      <th>desc</th>\n",
       "      <th>purpose</th>\n",
       "      <th>title</th>\n",
       "      <th>zip_code</th>\n",
       "      <th>addr_state</th>\n",
       "      <th>dti</th>\n",
       "      <th>delinq_2yrs</th>\n",
       "      <th>earliest_cr_line</th>\n",
       "      <th>inq_last_6mths</th>\n",
       "      <th>mths_since_last_delinq</th>\n",
       "      <th>mths_since_last_record</th>\n",
       "      <th>open_acc</th>\n",
       "      <th>pub_rec</th>\n",
       "      <th>revol_bal</th>\n",
       "      <th>revol_util</th>\n",
       "      <th>total_acc</th>\n",
       "      <th>initial_list_status</th>\n",
       "      <th>out_prncp</th>\n",
       "      <th>out_prncp_inv</th>\n",
       "      <th>total_pymnt</th>\n",
       "      <th>total_pymnt_inv</th>\n",
       "      <th>total_rec_prncp</th>\n",
       "      <th>total_rec_int</th>\n",
       "      <th>total_rec_late_fee</th>\n",
       "      <th>recoveries</th>\n",
       "      <th>collection_recovery_fee</th>\n",
       "      <th>last_pymnt_d</th>\n",
       "      <th>last_pymnt_amnt</th>\n",
       "      <th>next_pymnt_d</th>\n",
       "      <th>last_credit_pull_d</th>\n",
       "      <th>collections_12_mths_ex_med</th>\n",
       "      <th>mths_since_last_major_derog</th>\n",
       "      <th>policy_code</th>\n",
       "      <th>application_type</th>\n",
       "      <th>annual_inc_joint</th>\n",
       "      <th>dti_joint</th>\n",
       "      <th>verification_status_joint</th>\n",
       "      <th>acc_now_delinq</th>\n",
       "      <th>tot_coll_amt</th>\n",
       "      <th>tot_cur_bal</th>\n",
       "      <th>open_acc_6m</th>\n",
       "      <th>open_il_6m</th>\n",
       "      <th>open_il_12m</th>\n",
       "      <th>open_il_24m</th>\n",
       "      <th>mths_since_rcnt_il</th>\n",
       "      <th>total_bal_il</th>\n",
       "      <th>il_util</th>\n",
       "      <th>open_rv_12m</th>\n",
       "      <th>open_rv_24m</th>\n",
       "      <th>max_bal_bc</th>\n",
       "      <th>all_util</th>\n",
       "      <th>total_rev_hi_lim</th>\n",
       "      <th>inq_fi</th>\n",
       "      <th>total_cu_tl</th>\n",
       "      <th>inq_last_12m</th>\n",
       "      <th>acc_open_past_24mths</th>\n",
       "      <th>avg_cur_bal</th>\n",
       "      <th>bc_open_to_buy</th>\n",
       "      <th>bc_util</th>\n",
       "      <th>chargeoff_within_12_mths</th>\n",
       "      <th>delinq_amnt</th>\n",
       "      <th>mo_sin_old_il_acct</th>\n",
       "      <th>mo_sin_old_rev_tl_op</th>\n",
       "      <th>mo_sin_rcnt_rev_tl_op</th>\n",
       "      <th>mo_sin_rcnt_tl</th>\n",
       "      <th>mort_acc</th>\n",
       "      <th>mths_since_recent_bc</th>\n",
       "      <th>mths_since_recent_bc_dlq</th>\n",
       "      <th>mths_since_recent_inq</th>\n",
       "      <th>mths_since_recent_revol_delinq</th>\n",
       "      <th>num_accts_ever_120_pd</th>\n",
       "      <th>num_actv_bc_tl</th>\n",
       "      <th>num_actv_rev_tl</th>\n",
       "      <th>num_bc_sats</th>\n",
       "      <th>num_bc_tl</th>\n",
       "      <th>num_il_tl</th>\n",
       "      <th>num_op_rev_tl</th>\n",
       "      <th>num_rev_accts</th>\n",
       "      <th>num_rev_tl_bal_gt_0</th>\n",
       "      <th>num_sats</th>\n",
       "      <th>num_tl_120dpd_2m</th>\n",
       "      <th>num_tl_30dpd</th>\n",
       "      <th>num_tl_90g_dpd_24m</th>\n",
       "      <th>num_tl_op_past_12m</th>\n",
       "      <th>pct_tl_nvr_dlq</th>\n",
       "      <th>percent_bc_gt_75</th>\n",
       "      <th>pub_rec_bankruptcies</th>\n",
       "      <th>tax_liens</th>\n",
       "      <th>tot_hi_cred_lim</th>\n",
       "      <th>total_bal_ex_mort</th>\n",
       "      <th>total_bc_limit</th>\n",
       "      <th>total_il_high_credit_limit</th>\n",
       "    </tr>\n",
       "  </thead>\n",
       "  <tbody>\n",
       "    <tr>\n",
       "      <th>0</th>\n",
       "      <td>1077501</td>\n",
       "      <td>1296599</td>\n",
       "      <td>5000</td>\n",
       "      <td>5000</td>\n",
       "      <td>4975.0</td>\n",
       "      <td>36 months</td>\n",
       "      <td>10.65%</td>\n",
       "      <td>162.87</td>\n",
       "      <td>B</td>\n",
       "      <td>B2</td>\n",
       "      <td>NaN</td>\n",
       "      <td>10+ years</td>\n",
       "      <td>RENT</td>\n",
       "      <td>24000.0</td>\n",
       "      <td>Verified</td>\n",
       "      <td>Dec-11</td>\n",
       "      <td>Fully Paid</td>\n",
       "      <td>n</td>\n",
       "      <td>https://lendingclub.com/browse/loanDetail.acti...</td>\n",
       "      <td>Borrower added on 12/22/11 &gt; I need to upgra...</td>\n",
       "      <td>credit_card</td>\n",
       "      <td>Computer</td>\n",
       "      <td>860xx</td>\n",
       "      <td>AZ</td>\n",
       "      <td>27.65</td>\n",
       "      <td>0</td>\n",
       "      <td>Jan-85</td>\n",
       "      <td>1</td>\n",
       "      <td>NaN</td>\n",
       "      <td>NaN</td>\n",
       "      <td>3</td>\n",
       "      <td>0</td>\n",
       "      <td>13648</td>\n",
       "      <td>83.70%</td>\n",
       "      <td>9</td>\n",
       "      <td>f</td>\n",
       "      <td>0.0</td>\n",
       "      <td>0.0</td>\n",
       "      <td>5863.155187</td>\n",
       "      <td>5833.84</td>\n",
       "      <td>5000.0</td>\n",
       "      <td>863.16</td>\n",
       "      <td>0.0</td>\n",
       "      <td>0.0</td>\n",
       "      <td>0.0</td>\n",
       "      <td>Jan-15</td>\n",
       "      <td>171.62</td>\n",
       "      <td>NaN</td>\n",
       "      <td>May-16</td>\n",
       "      <td>0.0</td>\n",
       "      <td>NaN</td>\n",
       "      <td>1</td>\n",
       "      <td>INDIVIDUAL</td>\n",
       "      <td>NaN</td>\n",
       "      <td>NaN</td>\n",
       "      <td>NaN</td>\n",
       "      <td>0</td>\n",
       "      <td>NaN</td>\n",
       "      <td>NaN</td>\n",
       "      <td>NaN</td>\n",
       "      <td>NaN</td>\n",
       "      <td>NaN</td>\n",
       "      <td>NaN</td>\n",
       "      <td>NaN</td>\n",
       "      <td>NaN</td>\n",
       "      <td>NaN</td>\n",
       "      <td>NaN</td>\n",
       "      <td>NaN</td>\n",
       "      <td>NaN</td>\n",
       "      <td>NaN</td>\n",
       "      <td>NaN</td>\n",
       "      <td>NaN</td>\n",
       "      <td>NaN</td>\n",
       "      <td>NaN</td>\n",
       "      <td>NaN</td>\n",
       "      <td>NaN</td>\n",
       "      <td>NaN</td>\n",
       "      <td>NaN</td>\n",
       "      <td>0.0</td>\n",
       "      <td>0</td>\n",
       "      <td>NaN</td>\n",
       "      <td>NaN</td>\n",
       "      <td>NaN</td>\n",
       "      <td>NaN</td>\n",
       "      <td>NaN</td>\n",
       "      <td>NaN</td>\n",
       "      <td>NaN</td>\n",
       "      <td>NaN</td>\n",
       "      <td>NaN</td>\n",
       "      <td>NaN</td>\n",
       "      <td>NaN</td>\n",
       "      <td>NaN</td>\n",
       "      <td>NaN</td>\n",
       "      <td>NaN</td>\n",
       "      <td>NaN</td>\n",
       "      <td>NaN</td>\n",
       "      <td>NaN</td>\n",
       "      <td>NaN</td>\n",
       "      <td>NaN</td>\n",
       "      <td>NaN</td>\n",
       "      <td>NaN</td>\n",
       "      <td>NaN</td>\n",
       "      <td>NaN</td>\n",
       "      <td>NaN</td>\n",
       "      <td>NaN</td>\n",
       "      <td>0.0</td>\n",
       "      <td>0.0</td>\n",
       "      <td>NaN</td>\n",
       "      <td>NaN</td>\n",
       "      <td>NaN</td>\n",
       "      <td>NaN</td>\n",
       "    </tr>\n",
       "  </tbody>\n",
       "</table>\n",
       "</div>"
      ],
      "text/plain": [
       "        id  member_id  loan_amnt  funded_amnt  funded_amnt_inv        term  \\\n",
       "0  1077501    1296599       5000         5000           4975.0   36 months   \n",
       "\n",
       "  int_rate  installment grade sub_grade emp_title emp_length home_ownership  \\\n",
       "0   10.65%       162.87     B        B2       NaN  10+ years           RENT   \n",
       "\n",
       "   annual_inc verification_status issue_d loan_status pymnt_plan  \\\n",
       "0     24000.0            Verified  Dec-11  Fully Paid          n   \n",
       "\n",
       "                                                 url  \\\n",
       "0  https://lendingclub.com/browse/loanDetail.acti...   \n",
       "\n",
       "                                                desc      purpose     title  \\\n",
       "0    Borrower added on 12/22/11 > I need to upgra...  credit_card  Computer   \n",
       "\n",
       "  zip_code addr_state    dti  delinq_2yrs earliest_cr_line  inq_last_6mths  \\\n",
       "0    860xx         AZ  27.65            0           Jan-85               1   \n",
       "\n",
       "   mths_since_last_delinq  mths_since_last_record  open_acc  pub_rec  \\\n",
       "0                     NaN                     NaN         3        0   \n",
       "\n",
       "   revol_bal revol_util  total_acc initial_list_status  out_prncp  \\\n",
       "0      13648     83.70%          9                   f        0.0   \n",
       "\n",
       "   out_prncp_inv  total_pymnt  total_pymnt_inv  total_rec_prncp  \\\n",
       "0            0.0  5863.155187          5833.84           5000.0   \n",
       "\n",
       "   total_rec_int  total_rec_late_fee  recoveries  collection_recovery_fee  \\\n",
       "0         863.16                 0.0         0.0                      0.0   \n",
       "\n",
       "  last_pymnt_d  last_pymnt_amnt next_pymnt_d last_credit_pull_d  \\\n",
       "0       Jan-15           171.62          NaN             May-16   \n",
       "\n",
       "   collections_12_mths_ex_med  mths_since_last_major_derog  policy_code  \\\n",
       "0                         0.0                          NaN            1   \n",
       "\n",
       "  application_type  annual_inc_joint  dti_joint  verification_status_joint  \\\n",
       "0       INDIVIDUAL               NaN        NaN                        NaN   \n",
       "\n",
       "   acc_now_delinq  tot_coll_amt  tot_cur_bal  open_acc_6m  open_il_6m  \\\n",
       "0               0           NaN          NaN          NaN         NaN   \n",
       "\n",
       "   open_il_12m  open_il_24m  mths_since_rcnt_il  total_bal_il  il_util  \\\n",
       "0          NaN          NaN                 NaN           NaN      NaN   \n",
       "\n",
       "   open_rv_12m  open_rv_24m  max_bal_bc  all_util  total_rev_hi_lim  inq_fi  \\\n",
       "0          NaN          NaN         NaN       NaN               NaN     NaN   \n",
       "\n",
       "   total_cu_tl  inq_last_12m  acc_open_past_24mths  avg_cur_bal  \\\n",
       "0          NaN           NaN                   NaN          NaN   \n",
       "\n",
       "   bc_open_to_buy  bc_util  chargeoff_within_12_mths  delinq_amnt  \\\n",
       "0             NaN      NaN                       0.0            0   \n",
       "\n",
       "   mo_sin_old_il_acct  mo_sin_old_rev_tl_op  mo_sin_rcnt_rev_tl_op  \\\n",
       "0                 NaN                   NaN                    NaN   \n",
       "\n",
       "   mo_sin_rcnt_tl  mort_acc  mths_since_recent_bc  mths_since_recent_bc_dlq  \\\n",
       "0             NaN       NaN                   NaN                       NaN   \n",
       "\n",
       "   mths_since_recent_inq  mths_since_recent_revol_delinq  \\\n",
       "0                    NaN                             NaN   \n",
       "\n",
       "   num_accts_ever_120_pd  num_actv_bc_tl  num_actv_rev_tl  num_bc_sats  \\\n",
       "0                    NaN             NaN              NaN          NaN   \n",
       "\n",
       "   num_bc_tl  num_il_tl  num_op_rev_tl  num_rev_accts  num_rev_tl_bal_gt_0  \\\n",
       "0        NaN        NaN            NaN            NaN                  NaN   \n",
       "\n",
       "   num_sats  num_tl_120dpd_2m  num_tl_30dpd  num_tl_90g_dpd_24m  \\\n",
       "0       NaN               NaN           NaN                 NaN   \n",
       "\n",
       "   num_tl_op_past_12m  pct_tl_nvr_dlq  percent_bc_gt_75  pub_rec_bankruptcies  \\\n",
       "0                 NaN             NaN               NaN                   0.0   \n",
       "\n",
       "   tax_liens  tot_hi_cred_lim  total_bal_ex_mort  total_bc_limit  \\\n",
       "0        0.0              NaN                NaN             NaN   \n",
       "\n",
       "   total_il_high_credit_limit  \n",
       "0                         NaN  "
      ]
     },
     "execution_count": 88,
     "metadata": {},
     "output_type": "execute_result"
    }
   ],
   "source": [
    "data.head(1)"
   ]
  },
  {
   "cell_type": "code",
   "execution_count": 89,
   "id": "2b05ab79-1fe9-4052-ae5d-480bea3d551a",
   "metadata": {},
   "outputs": [
    {
     "data": {
      "text/plain": [
       "(39717, 111)"
      ]
     },
     "execution_count": 89,
     "metadata": {},
     "output_type": "execute_result"
    }
   ],
   "source": [
    "data.shape"
   ]
  },
  {
   "cell_type": "markdown",
   "id": "9cad9513-0999-44ee-9543-4a7c5de20af2",
   "metadata": {},
   "source": [
    "## Data Understanding"
   ]
  },
  {
   "cell_type": "markdown",
   "id": "87c109fe-d3db-4e4e-8954-955c55d9c60f",
   "metadata": {},
   "source": [
    "Yet to be filled"
   ]
  },
  {
   "cell_type": "code",
   "execution_count": null,
   "id": "5b5116cf-0d5a-494d-8493-e910d1cd2519",
   "metadata": {},
   "outputs": [],
   "source": []
  },
  {
   "cell_type": "code",
   "execution_count": null,
   "id": "2ea1ba87-0353-44ee-8cf0-d73460c917fc",
   "metadata": {},
   "outputs": [],
   "source": []
  },
  {
   "cell_type": "markdown",
   "id": "9f4214c9-aa5a-4e15-836c-8748868e3fc2",
   "metadata": {},
   "source": [
    "## Data Cleaning and Manipulation"
   ]
  },
  {
   "cell_type": "code",
   "execution_count": 90,
   "id": "61ef31df-2018-42af-9dc3-60d0af305ce8",
   "metadata": {},
   "outputs": [
    {
     "data": {
      "text/plain": [
       "id                                    0\n",
       "earliest_cr_line                      0\n",
       "inq_last_6mths                        0\n",
       "open_acc                              0\n",
       "pub_rec                               0\n",
       "revol_bal                             0\n",
       "total_acc                             0\n",
       "initial_list_status                   0\n",
       "out_prncp                             0\n",
       "out_prncp_inv                         0\n",
       "delinq_2yrs                           0\n",
       "total_pymnt                           0\n",
       "total_rec_int                         0\n",
       "total_rec_late_fee                    0\n",
       "recoveries                            0\n",
       "collection_recovery_fee               0\n",
       "last_pymnt_amnt                       0\n",
       "policy_code                           0\n",
       "application_type                      0\n",
       "acc_now_delinq                        0\n",
       "delinq_amnt                           0\n",
       "total_pymnt_inv                       0\n",
       "dti                                   0\n",
       "total_rec_prncp                       0\n",
       "zip_code                              0\n",
       "member_id                             0\n",
       "loan_amnt                             0\n",
       "addr_state                            0\n",
       "funded_amnt_inv                       0\n",
       "term                                  0\n",
       "int_rate                              0\n",
       "installment                           0\n",
       "grade                                 0\n",
       "sub_grade                             0\n",
       "home_ownership                        0\n",
       "annual_inc                            0\n",
       "funded_amnt                           0\n",
       "issue_d                               0\n",
       "purpose                               0\n",
       "verification_status                   0\n",
       "loan_status                           0\n",
       "pymnt_plan                            0\n",
       "url                                   0\n",
       "last_credit_pull_d                    2\n",
       "title                                11\n",
       "tax_liens                            39\n",
       "revol_util                           50\n",
       "collections_12_mths_ex_med           56\n",
       "chargeoff_within_12_mths             56\n",
       "last_pymnt_d                         71\n",
       "pub_rec_bankruptcies                697\n",
       "emp_length                         1075\n",
       "emp_title                          2459\n",
       "desc                              12942\n",
       "mths_since_last_delinq            25682\n",
       "mths_since_last_record            36931\n",
       "next_pymnt_d                      38577\n",
       "num_bc_sats                       39717\n",
       "mths_since_recent_bc              39717\n",
       "mths_since_recent_bc_dlq          39717\n",
       "mths_since_recent_inq             39717\n",
       "mths_since_recent_revol_delinq    39717\n",
       "num_accts_ever_120_pd             39717\n",
       "num_actv_bc_tl                    39717\n",
       "num_actv_rev_tl                   39717\n",
       "mort_acc                          39717\n",
       "num_bc_tl                         39717\n",
       "num_tl_op_past_12m                39717\n",
       "num_op_rev_tl                     39717\n",
       "num_rev_accts                     39717\n",
       "num_rev_tl_bal_gt_0               39717\n",
       "num_sats                          39717\n",
       "num_tl_120dpd_2m                  39717\n",
       "num_tl_30dpd                      39717\n",
       "num_tl_90g_dpd_24m                39717\n",
       "pct_tl_nvr_dlq                    39717\n",
       "percent_bc_gt_75                  39717\n",
       "tot_hi_cred_lim                   39717\n",
       "total_bal_ex_mort                 39717\n",
       "mo_sin_rcnt_tl                    39717\n",
       "num_il_tl                         39717\n",
       "mo_sin_rcnt_rev_tl_op             39717\n",
       "verification_status_joint         39717\n",
       "mo_sin_old_il_acct                39717\n",
       "mths_since_last_major_derog       39717\n",
       "annual_inc_joint                  39717\n",
       "dti_joint                         39717\n",
       "total_bc_limit                    39717\n",
       "tot_coll_amt                      39717\n",
       "tot_cur_bal                       39717\n",
       "open_acc_6m                       39717\n",
       "open_il_6m                        39717\n",
       "open_il_12m                       39717\n",
       "open_il_24m                       39717\n",
       "mths_since_rcnt_il                39717\n",
       "total_bal_il                      39717\n",
       "il_util                           39717\n",
       "open_rv_12m                       39717\n",
       "open_rv_24m                       39717\n",
       "max_bal_bc                        39717\n",
       "all_util                          39717\n",
       "total_rev_hi_lim                  39717\n",
       "inq_fi                            39717\n",
       "total_cu_tl                       39717\n",
       "inq_last_12m                      39717\n",
       "acc_open_past_24mths              39717\n",
       "avg_cur_bal                       39717\n",
       "bc_open_to_buy                    39717\n",
       "bc_util                           39717\n",
       "mo_sin_old_rev_tl_op              39717\n",
       "total_il_high_credit_limit        39717\n",
       "dtype: int64"
      ]
     },
     "execution_count": 90,
     "metadata": {},
     "output_type": "execute_result"
    }
   ],
   "source": [
    "# Check the columns with NULL values\n",
    "data.isna().sum().sort_values()"
   ]
  },
  {
   "cell_type": "code",
   "execution_count": 91,
   "id": "720db447-db62-456e-9e1e-7fa05d222cb2",
   "metadata": {},
   "outputs": [],
   "source": [
    "# Remove the columns with NULL values\n",
    "data.dropna(axis = 1, how = 'all', inplace = True)"
   ]
  },
  {
   "cell_type": "code",
   "execution_count": 92,
   "id": "51d0ac5e-e8dc-4f0c-aac6-f4343b78bb31",
   "metadata": {},
   "outputs": [],
   "source": [
    "# Removing columns which lot of NULL values and filling the missing values will not help\n",
    "data.drop(['next_pymnt_d', 'mths_since_last_record', 'mths_since_last_delinq', 'desc'], axis = 1, inplace = True)"
   ]
  },
  {
   "cell_type": "code",
   "execution_count": 93,
   "id": "a3e5969b-d5b9-4da7-b680-df5a2b221328",
   "metadata": {},
   "outputs": [
    {
     "data": {
      "text/plain": [
       "(39717, 53)"
      ]
     },
     "execution_count": 93,
     "metadata": {},
     "output_type": "execute_result"
    }
   ],
   "source": [
    "data.shape"
   ]
  },
  {
   "cell_type": "code",
   "execution_count": 94,
   "id": "7e285b92-db45-4a3c-a7fe-3cea6e7c182d",
   "metadata": {},
   "outputs": [
    {
     "data": {
      "text/html": [
       "<div>\n",
       "<style scoped>\n",
       "    .dataframe tbody tr th:only-of-type {\n",
       "        vertical-align: middle;\n",
       "    }\n",
       "\n",
       "    .dataframe tbody tr th {\n",
       "        vertical-align: top;\n",
       "    }\n",
       "\n",
       "    .dataframe thead th {\n",
       "        text-align: right;\n",
       "    }\n",
       "</style>\n",
       "<table border=\"1\" class=\"dataframe\">\n",
       "  <thead>\n",
       "    <tr style=\"text-align: right;\">\n",
       "      <th></th>\n",
       "      <th>id</th>\n",
       "      <th>member_id</th>\n",
       "      <th>loan_amnt</th>\n",
       "      <th>funded_amnt</th>\n",
       "      <th>funded_amnt_inv</th>\n",
       "      <th>term</th>\n",
       "      <th>int_rate</th>\n",
       "      <th>installment</th>\n",
       "      <th>grade</th>\n",
       "      <th>sub_grade</th>\n",
       "      <th>emp_title</th>\n",
       "      <th>emp_length</th>\n",
       "      <th>home_ownership</th>\n",
       "      <th>annual_inc</th>\n",
       "      <th>verification_status</th>\n",
       "      <th>issue_d</th>\n",
       "      <th>loan_status</th>\n",
       "      <th>pymnt_plan</th>\n",
       "      <th>url</th>\n",
       "      <th>purpose</th>\n",
       "      <th>title</th>\n",
       "      <th>zip_code</th>\n",
       "      <th>addr_state</th>\n",
       "      <th>dti</th>\n",
       "      <th>delinq_2yrs</th>\n",
       "      <th>earliest_cr_line</th>\n",
       "      <th>inq_last_6mths</th>\n",
       "      <th>open_acc</th>\n",
       "      <th>pub_rec</th>\n",
       "      <th>revol_bal</th>\n",
       "      <th>revol_util</th>\n",
       "      <th>total_acc</th>\n",
       "      <th>initial_list_status</th>\n",
       "      <th>out_prncp</th>\n",
       "      <th>out_prncp_inv</th>\n",
       "      <th>total_pymnt</th>\n",
       "      <th>total_pymnt_inv</th>\n",
       "      <th>total_rec_prncp</th>\n",
       "      <th>total_rec_int</th>\n",
       "      <th>total_rec_late_fee</th>\n",
       "      <th>recoveries</th>\n",
       "      <th>collection_recovery_fee</th>\n",
       "      <th>last_pymnt_d</th>\n",
       "      <th>last_pymnt_amnt</th>\n",
       "      <th>last_credit_pull_d</th>\n",
       "      <th>collections_12_mths_ex_med</th>\n",
       "      <th>policy_code</th>\n",
       "      <th>application_type</th>\n",
       "      <th>acc_now_delinq</th>\n",
       "      <th>chargeoff_within_12_mths</th>\n",
       "      <th>delinq_amnt</th>\n",
       "      <th>pub_rec_bankruptcies</th>\n",
       "      <th>tax_liens</th>\n",
       "    </tr>\n",
       "  </thead>\n",
       "  <tbody>\n",
       "    <tr>\n",
       "      <th>0</th>\n",
       "      <td>1077501</td>\n",
       "      <td>1296599</td>\n",
       "      <td>5000</td>\n",
       "      <td>5000</td>\n",
       "      <td>4975.0</td>\n",
       "      <td>36 months</td>\n",
       "      <td>10.65%</td>\n",
       "      <td>162.87</td>\n",
       "      <td>B</td>\n",
       "      <td>B2</td>\n",
       "      <td>NaN</td>\n",
       "      <td>10+ years</td>\n",
       "      <td>RENT</td>\n",
       "      <td>24000.0</td>\n",
       "      <td>Verified</td>\n",
       "      <td>Dec-11</td>\n",
       "      <td>Fully Paid</td>\n",
       "      <td>n</td>\n",
       "      <td>https://lendingclub.com/browse/loanDetail.acti...</td>\n",
       "      <td>credit_card</td>\n",
       "      <td>Computer</td>\n",
       "      <td>860xx</td>\n",
       "      <td>AZ</td>\n",
       "      <td>27.65</td>\n",
       "      <td>0</td>\n",
       "      <td>Jan-85</td>\n",
       "      <td>1</td>\n",
       "      <td>3</td>\n",
       "      <td>0</td>\n",
       "      <td>13648</td>\n",
       "      <td>83.70%</td>\n",
       "      <td>9</td>\n",
       "      <td>f</td>\n",
       "      <td>0.00</td>\n",
       "      <td>0.00</td>\n",
       "      <td>5863.155187</td>\n",
       "      <td>5833.84</td>\n",
       "      <td>5000.00</td>\n",
       "      <td>863.16</td>\n",
       "      <td>0.00</td>\n",
       "      <td>0.00</td>\n",
       "      <td>0.00</td>\n",
       "      <td>Jan-15</td>\n",
       "      <td>171.62</td>\n",
       "      <td>May-16</td>\n",
       "      <td>0.0</td>\n",
       "      <td>1</td>\n",
       "      <td>INDIVIDUAL</td>\n",
       "      <td>0</td>\n",
       "      <td>0.0</td>\n",
       "      <td>0</td>\n",
       "      <td>0.0</td>\n",
       "      <td>0.0</td>\n",
       "    </tr>\n",
       "    <tr>\n",
       "      <th>1</th>\n",
       "      <td>1077430</td>\n",
       "      <td>1314167</td>\n",
       "      <td>2500</td>\n",
       "      <td>2500</td>\n",
       "      <td>2500.0</td>\n",
       "      <td>60 months</td>\n",
       "      <td>15.27%</td>\n",
       "      <td>59.83</td>\n",
       "      <td>C</td>\n",
       "      <td>C4</td>\n",
       "      <td>Ryder</td>\n",
       "      <td>&lt; 1 year</td>\n",
       "      <td>RENT</td>\n",
       "      <td>30000.0</td>\n",
       "      <td>Source Verified</td>\n",
       "      <td>Dec-11</td>\n",
       "      <td>Charged Off</td>\n",
       "      <td>n</td>\n",
       "      <td>https://lendingclub.com/browse/loanDetail.acti...</td>\n",
       "      <td>car</td>\n",
       "      <td>bike</td>\n",
       "      <td>309xx</td>\n",
       "      <td>GA</td>\n",
       "      <td>1.00</td>\n",
       "      <td>0</td>\n",
       "      <td>Apr-99</td>\n",
       "      <td>5</td>\n",
       "      <td>3</td>\n",
       "      <td>0</td>\n",
       "      <td>1687</td>\n",
       "      <td>9.40%</td>\n",
       "      <td>4</td>\n",
       "      <td>f</td>\n",
       "      <td>0.00</td>\n",
       "      <td>0.00</td>\n",
       "      <td>1008.710000</td>\n",
       "      <td>1008.71</td>\n",
       "      <td>456.46</td>\n",
       "      <td>435.17</td>\n",
       "      <td>0.00</td>\n",
       "      <td>117.08</td>\n",
       "      <td>1.11</td>\n",
       "      <td>Apr-13</td>\n",
       "      <td>119.66</td>\n",
       "      <td>Sep-13</td>\n",
       "      <td>0.0</td>\n",
       "      <td>1</td>\n",
       "      <td>INDIVIDUAL</td>\n",
       "      <td>0</td>\n",
       "      <td>0.0</td>\n",
       "      <td>0</td>\n",
       "      <td>0.0</td>\n",
       "      <td>0.0</td>\n",
       "    </tr>\n",
       "    <tr>\n",
       "      <th>2</th>\n",
       "      <td>1077175</td>\n",
       "      <td>1313524</td>\n",
       "      <td>2400</td>\n",
       "      <td>2400</td>\n",
       "      <td>2400.0</td>\n",
       "      <td>36 months</td>\n",
       "      <td>15.96%</td>\n",
       "      <td>84.33</td>\n",
       "      <td>C</td>\n",
       "      <td>C5</td>\n",
       "      <td>NaN</td>\n",
       "      <td>10+ years</td>\n",
       "      <td>RENT</td>\n",
       "      <td>12252.0</td>\n",
       "      <td>Not Verified</td>\n",
       "      <td>Dec-11</td>\n",
       "      <td>Fully Paid</td>\n",
       "      <td>n</td>\n",
       "      <td>https://lendingclub.com/browse/loanDetail.acti...</td>\n",
       "      <td>small_business</td>\n",
       "      <td>real estate business</td>\n",
       "      <td>606xx</td>\n",
       "      <td>IL</td>\n",
       "      <td>8.72</td>\n",
       "      <td>0</td>\n",
       "      <td>Nov-01</td>\n",
       "      <td>2</td>\n",
       "      <td>2</td>\n",
       "      <td>0</td>\n",
       "      <td>2956</td>\n",
       "      <td>98.50%</td>\n",
       "      <td>10</td>\n",
       "      <td>f</td>\n",
       "      <td>0.00</td>\n",
       "      <td>0.00</td>\n",
       "      <td>3005.666844</td>\n",
       "      <td>3005.67</td>\n",
       "      <td>2400.00</td>\n",
       "      <td>605.67</td>\n",
       "      <td>0.00</td>\n",
       "      <td>0.00</td>\n",
       "      <td>0.00</td>\n",
       "      <td>Jun-14</td>\n",
       "      <td>649.91</td>\n",
       "      <td>May-16</td>\n",
       "      <td>0.0</td>\n",
       "      <td>1</td>\n",
       "      <td>INDIVIDUAL</td>\n",
       "      <td>0</td>\n",
       "      <td>0.0</td>\n",
       "      <td>0</td>\n",
       "      <td>0.0</td>\n",
       "      <td>0.0</td>\n",
       "    </tr>\n",
       "    <tr>\n",
       "      <th>3</th>\n",
       "      <td>1076863</td>\n",
       "      <td>1277178</td>\n",
       "      <td>10000</td>\n",
       "      <td>10000</td>\n",
       "      <td>10000.0</td>\n",
       "      <td>36 months</td>\n",
       "      <td>13.49%</td>\n",
       "      <td>339.31</td>\n",
       "      <td>C</td>\n",
       "      <td>C1</td>\n",
       "      <td>AIR RESOURCES BOARD</td>\n",
       "      <td>10+ years</td>\n",
       "      <td>RENT</td>\n",
       "      <td>49200.0</td>\n",
       "      <td>Source Verified</td>\n",
       "      <td>Dec-11</td>\n",
       "      <td>Fully Paid</td>\n",
       "      <td>n</td>\n",
       "      <td>https://lendingclub.com/browse/loanDetail.acti...</td>\n",
       "      <td>other</td>\n",
       "      <td>personel</td>\n",
       "      <td>917xx</td>\n",
       "      <td>CA</td>\n",
       "      <td>20.00</td>\n",
       "      <td>0</td>\n",
       "      <td>Feb-96</td>\n",
       "      <td>1</td>\n",
       "      <td>10</td>\n",
       "      <td>0</td>\n",
       "      <td>5598</td>\n",
       "      <td>21%</td>\n",
       "      <td>37</td>\n",
       "      <td>f</td>\n",
       "      <td>0.00</td>\n",
       "      <td>0.00</td>\n",
       "      <td>12231.890000</td>\n",
       "      <td>12231.89</td>\n",
       "      <td>10000.00</td>\n",
       "      <td>2214.92</td>\n",
       "      <td>16.97</td>\n",
       "      <td>0.00</td>\n",
       "      <td>0.00</td>\n",
       "      <td>Jan-15</td>\n",
       "      <td>357.48</td>\n",
       "      <td>Apr-16</td>\n",
       "      <td>0.0</td>\n",
       "      <td>1</td>\n",
       "      <td>INDIVIDUAL</td>\n",
       "      <td>0</td>\n",
       "      <td>0.0</td>\n",
       "      <td>0</td>\n",
       "      <td>0.0</td>\n",
       "      <td>0.0</td>\n",
       "    </tr>\n",
       "    <tr>\n",
       "      <th>4</th>\n",
       "      <td>1075358</td>\n",
       "      <td>1311748</td>\n",
       "      <td>3000</td>\n",
       "      <td>3000</td>\n",
       "      <td>3000.0</td>\n",
       "      <td>60 months</td>\n",
       "      <td>12.69%</td>\n",
       "      <td>67.79</td>\n",
       "      <td>B</td>\n",
       "      <td>B5</td>\n",
       "      <td>University Medical Group</td>\n",
       "      <td>1 year</td>\n",
       "      <td>RENT</td>\n",
       "      <td>80000.0</td>\n",
       "      <td>Source Verified</td>\n",
       "      <td>Dec-11</td>\n",
       "      <td>Current</td>\n",
       "      <td>n</td>\n",
       "      <td>https://lendingclub.com/browse/loanDetail.acti...</td>\n",
       "      <td>other</td>\n",
       "      <td>Personal</td>\n",
       "      <td>972xx</td>\n",
       "      <td>OR</td>\n",
       "      <td>17.94</td>\n",
       "      <td>0</td>\n",
       "      <td>Jan-96</td>\n",
       "      <td>0</td>\n",
       "      <td>15</td>\n",
       "      <td>0</td>\n",
       "      <td>27783</td>\n",
       "      <td>53.90%</td>\n",
       "      <td>38</td>\n",
       "      <td>f</td>\n",
       "      <td>524.06</td>\n",
       "      <td>524.06</td>\n",
       "      <td>3513.330000</td>\n",
       "      <td>3513.33</td>\n",
       "      <td>2475.94</td>\n",
       "      <td>1037.39</td>\n",
       "      <td>0.00</td>\n",
       "      <td>0.00</td>\n",
       "      <td>0.00</td>\n",
       "      <td>May-16</td>\n",
       "      <td>67.79</td>\n",
       "      <td>May-16</td>\n",
       "      <td>0.0</td>\n",
       "      <td>1</td>\n",
       "      <td>INDIVIDUAL</td>\n",
       "      <td>0</td>\n",
       "      <td>0.0</td>\n",
       "      <td>0</td>\n",
       "      <td>0.0</td>\n",
       "      <td>0.0</td>\n",
       "    </tr>\n",
       "  </tbody>\n",
       "</table>\n",
       "</div>"
      ],
      "text/plain": [
       "        id  member_id  loan_amnt  funded_amnt  funded_amnt_inv        term  \\\n",
       "0  1077501    1296599       5000         5000           4975.0   36 months   \n",
       "1  1077430    1314167       2500         2500           2500.0   60 months   \n",
       "2  1077175    1313524       2400         2400           2400.0   36 months   \n",
       "3  1076863    1277178      10000        10000          10000.0   36 months   \n",
       "4  1075358    1311748       3000         3000           3000.0   60 months   \n",
       "\n",
       "  int_rate  installment grade sub_grade                 emp_title emp_length  \\\n",
       "0   10.65%       162.87     B        B2                       NaN  10+ years   \n",
       "1   15.27%        59.83     C        C4                     Ryder   < 1 year   \n",
       "2   15.96%        84.33     C        C5                       NaN  10+ years   \n",
       "3   13.49%       339.31     C        C1       AIR RESOURCES BOARD  10+ years   \n",
       "4   12.69%        67.79     B        B5  University Medical Group     1 year   \n",
       "\n",
       "  home_ownership  annual_inc verification_status issue_d  loan_status  \\\n",
       "0           RENT     24000.0            Verified  Dec-11   Fully Paid   \n",
       "1           RENT     30000.0     Source Verified  Dec-11  Charged Off   \n",
       "2           RENT     12252.0        Not Verified  Dec-11   Fully Paid   \n",
       "3           RENT     49200.0     Source Verified  Dec-11   Fully Paid   \n",
       "4           RENT     80000.0     Source Verified  Dec-11      Current   \n",
       "\n",
       "  pymnt_plan                                                url  \\\n",
       "0          n  https://lendingclub.com/browse/loanDetail.acti...   \n",
       "1          n  https://lendingclub.com/browse/loanDetail.acti...   \n",
       "2          n  https://lendingclub.com/browse/loanDetail.acti...   \n",
       "3          n  https://lendingclub.com/browse/loanDetail.acti...   \n",
       "4          n  https://lendingclub.com/browse/loanDetail.acti...   \n",
       "\n",
       "          purpose                 title zip_code addr_state    dti  \\\n",
       "0     credit_card              Computer    860xx         AZ  27.65   \n",
       "1             car                  bike    309xx         GA   1.00   \n",
       "2  small_business  real estate business    606xx         IL   8.72   \n",
       "3           other              personel    917xx         CA  20.00   \n",
       "4           other              Personal    972xx         OR  17.94   \n",
       "\n",
       "   delinq_2yrs earliest_cr_line  inq_last_6mths  open_acc  pub_rec  revol_bal  \\\n",
       "0            0           Jan-85               1         3        0      13648   \n",
       "1            0           Apr-99               5         3        0       1687   \n",
       "2            0           Nov-01               2         2        0       2956   \n",
       "3            0           Feb-96               1        10        0       5598   \n",
       "4            0           Jan-96               0        15        0      27783   \n",
       "\n",
       "  revol_util  total_acc initial_list_status  out_prncp  out_prncp_inv  \\\n",
       "0     83.70%          9                   f       0.00           0.00   \n",
       "1      9.40%          4                   f       0.00           0.00   \n",
       "2     98.50%         10                   f       0.00           0.00   \n",
       "3        21%         37                   f       0.00           0.00   \n",
       "4     53.90%         38                   f     524.06         524.06   \n",
       "\n",
       "    total_pymnt  total_pymnt_inv  total_rec_prncp  total_rec_int  \\\n",
       "0   5863.155187          5833.84          5000.00         863.16   \n",
       "1   1008.710000          1008.71           456.46         435.17   \n",
       "2   3005.666844          3005.67          2400.00         605.67   \n",
       "3  12231.890000         12231.89         10000.00        2214.92   \n",
       "4   3513.330000          3513.33          2475.94        1037.39   \n",
       "\n",
       "   total_rec_late_fee  recoveries  collection_recovery_fee last_pymnt_d  \\\n",
       "0                0.00        0.00                     0.00       Jan-15   \n",
       "1                0.00      117.08                     1.11       Apr-13   \n",
       "2                0.00        0.00                     0.00       Jun-14   \n",
       "3               16.97        0.00                     0.00       Jan-15   \n",
       "4                0.00        0.00                     0.00       May-16   \n",
       "\n",
       "   last_pymnt_amnt last_credit_pull_d  collections_12_mths_ex_med  \\\n",
       "0           171.62             May-16                         0.0   \n",
       "1           119.66             Sep-13                         0.0   \n",
       "2           649.91             May-16                         0.0   \n",
       "3           357.48             Apr-16                         0.0   \n",
       "4            67.79             May-16                         0.0   \n",
       "\n",
       "   policy_code application_type  acc_now_delinq  chargeoff_within_12_mths  \\\n",
       "0            1       INDIVIDUAL               0                       0.0   \n",
       "1            1       INDIVIDUAL               0                       0.0   \n",
       "2            1       INDIVIDUAL               0                       0.0   \n",
       "3            1       INDIVIDUAL               0                       0.0   \n",
       "4            1       INDIVIDUAL               0                       0.0   \n",
       "\n",
       "   delinq_amnt  pub_rec_bankruptcies  tax_liens  \n",
       "0            0                   0.0        0.0  \n",
       "1            0                   0.0        0.0  \n",
       "2            0                   0.0        0.0  \n",
       "3            0                   0.0        0.0  \n",
       "4            0                   0.0        0.0  "
      ]
     },
     "execution_count": 94,
     "metadata": {},
     "output_type": "execute_result"
    }
   ],
   "source": [
    "data.head()"
   ]
  },
  {
   "cell_type": "code",
   "execution_count": 95,
   "id": "c228819b-239d-401f-8c0a-ca75bc3bbfba",
   "metadata": {},
   "outputs": [
    {
     "data": {
      "text/plain": [
       "tax_liens                      1\n",
       "delinq_amnt                    1\n",
       "chargeoff_within_12_mths       1\n",
       "acc_now_delinq                 1\n",
       "application_type               1\n",
       "policy_code                    1\n",
       "collections_12_mths_ex_med     1\n",
       "initial_list_status            1\n",
       "pymnt_plan                     1\n",
       "term                           2\n",
       "pub_rec_bankruptcies           3\n",
       "verification_status            3\n",
       "loan_status                    3\n",
       "pub_rec                        5\n",
       "home_ownership                 5\n",
       "grade                          7\n",
       "inq_last_6mths                 9\n",
       "delinq_2yrs                   11\n",
       "emp_length                    11\n",
       "purpose                       14\n",
       "dtype: int64"
      ]
     },
     "execution_count": 95,
     "metadata": {},
     "output_type": "execute_result"
    }
   ],
   "source": [
    "# Analyze column further to check the column data variability\n",
    "# Since constant values columns will not br helpful in our analysis\n",
    "data.nunique().sort_values().head(20)"
   ]
  },
  {
   "cell_type": "code",
   "execution_count": 96,
   "id": "7406424e-9ae5-417a-ace7-63a0f31728ef",
   "metadata": {},
   "outputs": [],
   "source": [
    "# Seems there are constant value columns and these columns type are not adding values into our analysis.\n",
    "# Removing these columns\n",
    "data.drop(['tax_liens', 'delinq_amnt', 'chargeoff_within_12_mths', 'acc_now_delinq', 'application_type', 'policy_code', 'collections_12_mths_ex_med', 'pymnt_plan', 'initial_list_status'], axis = 1, inplace = True)"
   ]
  },
  {
   "cell_type": "code",
   "execution_count": 97,
   "id": "a2ecfd8d-f106-4d2a-879e-e44ed6b8b03d",
   "metadata": {},
   "outputs": [
    {
     "data": {
      "text/plain": [
       "(39717, 44)"
      ]
     },
     "execution_count": 97,
     "metadata": {},
     "output_type": "execute_result"
    }
   ],
   "source": [
    "data.shape"
   ]
  },
  {
   "cell_type": "code",
   "execution_count": 98,
   "id": "6b351297-b240-43b2-972e-80c85334c7ee",
   "metadata": {},
   "outputs": [
    {
     "data": {
      "text/plain": [
       "['id',\n",
       " 'member_id',\n",
       " 'loan_amnt',\n",
       " 'funded_amnt',\n",
       " 'funded_amnt_inv',\n",
       " 'term',\n",
       " 'int_rate',\n",
       " 'installment',\n",
       " 'grade',\n",
       " 'sub_grade',\n",
       " 'emp_title',\n",
       " 'emp_length',\n",
       " 'home_ownership',\n",
       " 'annual_inc',\n",
       " 'verification_status',\n",
       " 'issue_d',\n",
       " 'loan_status',\n",
       " 'url',\n",
       " 'purpose',\n",
       " 'title',\n",
       " 'zip_code',\n",
       " 'addr_state',\n",
       " 'dti',\n",
       " 'delinq_2yrs',\n",
       " 'earliest_cr_line',\n",
       " 'inq_last_6mths',\n",
       " 'open_acc',\n",
       " 'pub_rec',\n",
       " 'revol_bal',\n",
       " 'revol_util',\n",
       " 'total_acc',\n",
       " 'out_prncp',\n",
       " 'out_prncp_inv',\n",
       " 'total_pymnt',\n",
       " 'total_pymnt_inv',\n",
       " 'total_rec_prncp',\n",
       " 'total_rec_int',\n",
       " 'total_rec_late_fee',\n",
       " 'recoveries',\n",
       " 'collection_recovery_fee',\n",
       " 'last_pymnt_d',\n",
       " 'last_pymnt_amnt',\n",
       " 'last_credit_pull_d',\n",
       " 'pub_rec_bankruptcies']"
      ]
     },
     "execution_count": 98,
     "metadata": {},
     "output_type": "execute_result"
    }
   ],
   "source": [
    "data.columns.to_list()"
   ]
  },
  {
   "cell_type": "markdown",
   "id": "41edd755-dc2f-4cb8-acbc-fbac979f7b81",
   "metadata": {},
   "source": [
    "### Analyzing these 44 columns in the provided \"Data Dictionary sheet\" to understand if we can further drop more columns to reduce the data frame size\n",
    "Found that following columns can also be dropped as they are mostly Descriptive, Dealing with Payments, Fees, Recoveries and Bankruptcy and don't play important role in the problem we are solving.\n",
    "- Borrowers Personal Details related columns: `emp_title, title`\n",
    "- Site URL: `url`\n",
    "- Outstanding principal: `out_prncp, out_prncp_inv`\n",
    "- Payment/Fees Received related columns: `total_pymnt, total_pymnt_inv, total_rec_prncp, total_rec_int, total_rec_late_fee`\n",
    "- Recoveries and last payment received related columns: `recoveries, collection_recovery_fee`\n",
    "- Last/Next Payment received date/amount: `last_pymnt_d, last_pymnt_amnt, last_credit_pull_d`\n",
    "- Bankruptcy Records: `pub_rec_bankruptcies`"
   ]
  },
  {
   "cell_type": "code",
   "execution_count": 99,
   "id": "cd38d086-b824-4a89-a8a4-7ed47de4e30a",
   "metadata": {},
   "outputs": [],
   "source": [
    "data.drop(['emp_title', 'title',\n",
    "           'url',\n",
    "           'out_prncp','out_prncp_inv',\n",
    "           'total_pymnt', 'total_pymnt_inv', 'total_rec_prncp', 'total_rec_int', 'total_rec_late_fee',\n",
    "           'recoveries', 'collection_recovery_fee',\n",
    "           'last_pymnt_d', 'last_pymnt_amnt', 'last_credit_pull_d',\n",
    "           'pub_rec_bankruptcies'\n",
    "          ], axis=1, inplace=True\n",
    "         )"
   ]
  },
  {
   "cell_type": "code",
   "execution_count": 100,
   "id": "81b9d822-490a-465e-9185-7861b395ec45",
   "metadata": {},
   "outputs": [
    {
     "data": {
      "text/plain": [
       "(39717, 28)"
      ]
     },
     "execution_count": 100,
     "metadata": {},
     "output_type": "execute_result"
    }
   ],
   "source": [
    "data.shape"
   ]
  },
  {
   "cell_type": "code",
   "execution_count": 101,
   "id": "88db5894-356f-4ac9-a674-7c00391b5aff",
   "metadata": {},
   "outputs": [
    {
     "data": {
      "text/html": [
       "<div>\n",
       "<style scoped>\n",
       "    .dataframe tbody tr th:only-of-type {\n",
       "        vertical-align: middle;\n",
       "    }\n",
       "\n",
       "    .dataframe tbody tr th {\n",
       "        vertical-align: top;\n",
       "    }\n",
       "\n",
       "    .dataframe thead th {\n",
       "        text-align: right;\n",
       "    }\n",
       "</style>\n",
       "<table border=\"1\" class=\"dataframe\">\n",
       "  <thead>\n",
       "    <tr style=\"text-align: right;\">\n",
       "      <th></th>\n",
       "      <th>id</th>\n",
       "      <th>member_id</th>\n",
       "      <th>loan_amnt</th>\n",
       "      <th>funded_amnt</th>\n",
       "      <th>funded_amnt_inv</th>\n",
       "      <th>term</th>\n",
       "      <th>int_rate</th>\n",
       "      <th>installment</th>\n",
       "      <th>grade</th>\n",
       "      <th>sub_grade</th>\n",
       "      <th>emp_length</th>\n",
       "      <th>home_ownership</th>\n",
       "      <th>annual_inc</th>\n",
       "      <th>verification_status</th>\n",
       "      <th>issue_d</th>\n",
       "      <th>loan_status</th>\n",
       "      <th>purpose</th>\n",
       "      <th>zip_code</th>\n",
       "      <th>addr_state</th>\n",
       "      <th>dti</th>\n",
       "      <th>delinq_2yrs</th>\n",
       "      <th>earliest_cr_line</th>\n",
       "      <th>inq_last_6mths</th>\n",
       "      <th>open_acc</th>\n",
       "      <th>pub_rec</th>\n",
       "      <th>revol_bal</th>\n",
       "      <th>revol_util</th>\n",
       "      <th>total_acc</th>\n",
       "    </tr>\n",
       "  </thead>\n",
       "  <tbody>\n",
       "    <tr>\n",
       "      <th>0</th>\n",
       "      <td>1077501</td>\n",
       "      <td>1296599</td>\n",
       "      <td>5000</td>\n",
       "      <td>5000</td>\n",
       "      <td>4975.0</td>\n",
       "      <td>36 months</td>\n",
       "      <td>10.65%</td>\n",
       "      <td>162.87</td>\n",
       "      <td>B</td>\n",
       "      <td>B2</td>\n",
       "      <td>10+ years</td>\n",
       "      <td>RENT</td>\n",
       "      <td>24000.0</td>\n",
       "      <td>Verified</td>\n",
       "      <td>Dec-11</td>\n",
       "      <td>Fully Paid</td>\n",
       "      <td>credit_card</td>\n",
       "      <td>860xx</td>\n",
       "      <td>AZ</td>\n",
       "      <td>27.65</td>\n",
       "      <td>0</td>\n",
       "      <td>Jan-85</td>\n",
       "      <td>1</td>\n",
       "      <td>3</td>\n",
       "      <td>0</td>\n",
       "      <td>13648</td>\n",
       "      <td>83.70%</td>\n",
       "      <td>9</td>\n",
       "    </tr>\n",
       "    <tr>\n",
       "      <th>1</th>\n",
       "      <td>1077430</td>\n",
       "      <td>1314167</td>\n",
       "      <td>2500</td>\n",
       "      <td>2500</td>\n",
       "      <td>2500.0</td>\n",
       "      <td>60 months</td>\n",
       "      <td>15.27%</td>\n",
       "      <td>59.83</td>\n",
       "      <td>C</td>\n",
       "      <td>C4</td>\n",
       "      <td>&lt; 1 year</td>\n",
       "      <td>RENT</td>\n",
       "      <td>30000.0</td>\n",
       "      <td>Source Verified</td>\n",
       "      <td>Dec-11</td>\n",
       "      <td>Charged Off</td>\n",
       "      <td>car</td>\n",
       "      <td>309xx</td>\n",
       "      <td>GA</td>\n",
       "      <td>1.00</td>\n",
       "      <td>0</td>\n",
       "      <td>Apr-99</td>\n",
       "      <td>5</td>\n",
       "      <td>3</td>\n",
       "      <td>0</td>\n",
       "      <td>1687</td>\n",
       "      <td>9.40%</td>\n",
       "      <td>4</td>\n",
       "    </tr>\n",
       "    <tr>\n",
       "      <th>2</th>\n",
       "      <td>1077175</td>\n",
       "      <td>1313524</td>\n",
       "      <td>2400</td>\n",
       "      <td>2400</td>\n",
       "      <td>2400.0</td>\n",
       "      <td>36 months</td>\n",
       "      <td>15.96%</td>\n",
       "      <td>84.33</td>\n",
       "      <td>C</td>\n",
       "      <td>C5</td>\n",
       "      <td>10+ years</td>\n",
       "      <td>RENT</td>\n",
       "      <td>12252.0</td>\n",
       "      <td>Not Verified</td>\n",
       "      <td>Dec-11</td>\n",
       "      <td>Fully Paid</td>\n",
       "      <td>small_business</td>\n",
       "      <td>606xx</td>\n",
       "      <td>IL</td>\n",
       "      <td>8.72</td>\n",
       "      <td>0</td>\n",
       "      <td>Nov-01</td>\n",
       "      <td>2</td>\n",
       "      <td>2</td>\n",
       "      <td>0</td>\n",
       "      <td>2956</td>\n",
       "      <td>98.50%</td>\n",
       "      <td>10</td>\n",
       "    </tr>\n",
       "    <tr>\n",
       "      <th>3</th>\n",
       "      <td>1076863</td>\n",
       "      <td>1277178</td>\n",
       "      <td>10000</td>\n",
       "      <td>10000</td>\n",
       "      <td>10000.0</td>\n",
       "      <td>36 months</td>\n",
       "      <td>13.49%</td>\n",
       "      <td>339.31</td>\n",
       "      <td>C</td>\n",
       "      <td>C1</td>\n",
       "      <td>10+ years</td>\n",
       "      <td>RENT</td>\n",
       "      <td>49200.0</td>\n",
       "      <td>Source Verified</td>\n",
       "      <td>Dec-11</td>\n",
       "      <td>Fully Paid</td>\n",
       "      <td>other</td>\n",
       "      <td>917xx</td>\n",
       "      <td>CA</td>\n",
       "      <td>20.00</td>\n",
       "      <td>0</td>\n",
       "      <td>Feb-96</td>\n",
       "      <td>1</td>\n",
       "      <td>10</td>\n",
       "      <td>0</td>\n",
       "      <td>5598</td>\n",
       "      <td>21%</td>\n",
       "      <td>37</td>\n",
       "    </tr>\n",
       "    <tr>\n",
       "      <th>4</th>\n",
       "      <td>1075358</td>\n",
       "      <td>1311748</td>\n",
       "      <td>3000</td>\n",
       "      <td>3000</td>\n",
       "      <td>3000.0</td>\n",
       "      <td>60 months</td>\n",
       "      <td>12.69%</td>\n",
       "      <td>67.79</td>\n",
       "      <td>B</td>\n",
       "      <td>B5</td>\n",
       "      <td>1 year</td>\n",
       "      <td>RENT</td>\n",
       "      <td>80000.0</td>\n",
       "      <td>Source Verified</td>\n",
       "      <td>Dec-11</td>\n",
       "      <td>Current</td>\n",
       "      <td>other</td>\n",
       "      <td>972xx</td>\n",
       "      <td>OR</td>\n",
       "      <td>17.94</td>\n",
       "      <td>0</td>\n",
       "      <td>Jan-96</td>\n",
       "      <td>0</td>\n",
       "      <td>15</td>\n",
       "      <td>0</td>\n",
       "      <td>27783</td>\n",
       "      <td>53.90%</td>\n",
       "      <td>38</td>\n",
       "    </tr>\n",
       "  </tbody>\n",
       "</table>\n",
       "</div>"
      ],
      "text/plain": [
       "        id  member_id  loan_amnt  funded_amnt  funded_amnt_inv        term  \\\n",
       "0  1077501    1296599       5000         5000           4975.0   36 months   \n",
       "1  1077430    1314167       2500         2500           2500.0   60 months   \n",
       "2  1077175    1313524       2400         2400           2400.0   36 months   \n",
       "3  1076863    1277178      10000        10000          10000.0   36 months   \n",
       "4  1075358    1311748       3000         3000           3000.0   60 months   \n",
       "\n",
       "  int_rate  installment grade sub_grade emp_length home_ownership  annual_inc  \\\n",
       "0   10.65%       162.87     B        B2  10+ years           RENT     24000.0   \n",
       "1   15.27%        59.83     C        C4   < 1 year           RENT     30000.0   \n",
       "2   15.96%        84.33     C        C5  10+ years           RENT     12252.0   \n",
       "3   13.49%       339.31     C        C1  10+ years           RENT     49200.0   \n",
       "4   12.69%        67.79     B        B5     1 year           RENT     80000.0   \n",
       "\n",
       "  verification_status issue_d  loan_status         purpose zip_code  \\\n",
       "0            Verified  Dec-11   Fully Paid     credit_card    860xx   \n",
       "1     Source Verified  Dec-11  Charged Off             car    309xx   \n",
       "2        Not Verified  Dec-11   Fully Paid  small_business    606xx   \n",
       "3     Source Verified  Dec-11   Fully Paid           other    917xx   \n",
       "4     Source Verified  Dec-11      Current           other    972xx   \n",
       "\n",
       "  addr_state    dti  delinq_2yrs earliest_cr_line  inq_last_6mths  open_acc  \\\n",
       "0         AZ  27.65            0           Jan-85               1         3   \n",
       "1         GA   1.00            0           Apr-99               5         3   \n",
       "2         IL   8.72            0           Nov-01               2         2   \n",
       "3         CA  20.00            0           Feb-96               1        10   \n",
       "4         OR  17.94            0           Jan-96               0        15   \n",
       "\n",
       "   pub_rec  revol_bal revol_util  total_acc  \n",
       "0        0      13648     83.70%          9  \n",
       "1        0       1687      9.40%          4  \n",
       "2        0       2956     98.50%         10  \n",
       "3        0       5598        21%         37  \n",
       "4        0      27783     53.90%         38  "
      ]
     },
     "execution_count": 101,
     "metadata": {},
     "output_type": "execute_result"
    }
   ],
   "source": [
    "data.head()"
   ]
  },
  {
   "cell_type": "markdown",
   "id": "01e7fdb7-2bf6-43dc-964c-4757817f3df8",
   "metadata": {},
   "source": [
    "## Fill Missing values\n",
    "### Approach\n",
    "- For Continuous data - Median/Mode/Mean whichever is appropriate\n",
    "- For Categorical data - Use frequency to fill most frequent value"
   ]
  },
  {
   "cell_type": "code",
   "execution_count": 102,
   "id": "1f15b4af-fd6d-4eda-9865-a23bcc5b2f27",
   "metadata": {},
   "outputs": [
    {
     "name": "stdout",
     "output_type": "stream",
     "text": [
      "<class 'pandas.core.frame.DataFrame'>\n",
      "RangeIndex: 39717 entries, 0 to 39716\n",
      "Data columns (total 28 columns):\n",
      " #   Column               Non-Null Count  Dtype  \n",
      "---  ------               --------------  -----  \n",
      " 0   id                   39717 non-null  int64  \n",
      " 1   member_id            39717 non-null  int64  \n",
      " 2   loan_amnt            39717 non-null  int64  \n",
      " 3   funded_amnt          39717 non-null  int64  \n",
      " 4   funded_amnt_inv      39717 non-null  float64\n",
      " 5   term                 39717 non-null  object \n",
      " 6   int_rate             39717 non-null  object \n",
      " 7   installment          39717 non-null  float64\n",
      " 8   grade                39717 non-null  object \n",
      " 9   sub_grade            39717 non-null  object \n",
      " 10  emp_length           38642 non-null  object \n",
      " 11  home_ownership       39717 non-null  object \n",
      " 12  annual_inc           39717 non-null  float64\n",
      " 13  verification_status  39717 non-null  object \n",
      " 14  issue_d              39717 non-null  object \n",
      " 15  loan_status          39717 non-null  object \n",
      " 16  purpose              39717 non-null  object \n",
      " 17  zip_code             39717 non-null  object \n",
      " 18  addr_state           39717 non-null  object \n",
      " 19  dti                  39717 non-null  float64\n",
      " 20  delinq_2yrs          39717 non-null  int64  \n",
      " 21  earliest_cr_line     39717 non-null  object \n",
      " 22  inq_last_6mths       39717 non-null  int64  \n",
      " 23  open_acc             39717 non-null  int64  \n",
      " 24  pub_rec              39717 non-null  int64  \n",
      " 25  revol_bal            39717 non-null  int64  \n",
      " 26  revol_util           39667 non-null  object \n",
      " 27  total_acc            39717 non-null  int64  \n",
      "dtypes: float64(4), int64(10), object(14)\n",
      "memory usage: 8.5+ MB\n"
     ]
    }
   ],
   "source": [
    "data.info()"
   ]
  },
  {
   "cell_type": "markdown",
   "id": "193905e5-4f5e-4e7d-9ea4-2afc05545c57",
   "metadata": {},
   "source": [
    "##### As we can see from the above output, the following column rows needs to be filled or dropped\n",
    "- Rows to be filled for: __emp_length__\n",
    "- Rows to be dropped for: __revol_util, total_acc__"
   ]
  },
  {
   "cell_type": "code",
   "execution_count": 103,
   "id": "6f36e3a7-dabc-489f-b45b-471e2a88dcf6",
   "metadata": {},
   "outputs": [
    {
     "data": {
      "text/plain": [
       "emp_length\n",
       "10+ years    8879\n",
       "< 1 year     4583\n",
       "2 years      4388\n",
       "3 years      4095\n",
       "4 years      3436\n",
       "5 years      3282\n",
       "1 year       3240\n",
       "6 years      2229\n",
       "7 years      1773\n",
       "8 years      1479\n",
       "9 years      1258\n",
       "Name: count, dtype: int64"
      ]
     },
     "execution_count": 103,
     "metadata": {},
     "output_type": "execute_result"
    }
   ],
   "source": [
    "data.emp_length.value_counts()"
   ]
  },
  {
   "cell_type": "code",
   "execution_count": 104,
   "id": "16c567e5-3e47-48ed-a102-89295e79c154",
   "metadata": {},
   "outputs": [
    {
     "data": {
      "text/plain": [
       "0    10+ years\n",
       "Name: emp_length, dtype: object"
      ]
     },
     "execution_count": 104,
     "metadata": {},
     "output_type": "execute_result"
    }
   ],
   "source": [
    "data.emp_length.mode()"
   ]
  },
  {
   "cell_type": "code",
   "execution_count": 105,
   "id": "23a6336b-57d3-48f5-9c1d-43a2bea95ba6",
   "metadata": {},
   "outputs": [
    {
     "name": "stdout",
     "output_type": "stream",
     "text": [
      "RangeIndex(start=0, stop=39717, step=1)\n",
      "39717\n",
      "1075\n"
     ]
    }
   ],
   "source": [
    "print(data.emp_length.index)\n",
    "print(len(data.emp_length))\n",
    "print(data.emp_length.isna().sum())"
   ]
  },
  {
   "cell_type": "code",
   "execution_count": 106,
   "id": "8cf74e11-5f58-45b8-bc69-95fccb3e2040",
   "metadata": {},
   "outputs": [],
   "source": [
    "mode_value = data.emp_length.mode()[0]\n",
    "data.emp_length.fillna(mode_value, inplace=True)"
   ]
  },
  {
   "cell_type": "code",
   "execution_count": 107,
   "id": "87560759-23b5-41e2-8edf-d0286a2b822e",
   "metadata": {},
   "outputs": [
    {
     "data": {
      "text/plain": [
       "0"
      ]
     },
     "execution_count": 107,
     "metadata": {},
     "output_type": "execute_result"
    }
   ],
   "source": [
    "data['emp_length'].isna().sum()"
   ]
  },
  {
   "cell_type": "code",
   "execution_count": 108,
   "id": "fdcea43b-7e0f-4505-a6e8-9b68a75d2b5c",
   "metadata": {},
   "outputs": [],
   "source": [
    "data.dropna(axis = 0, subset=['revol_util', 'total_acc'], inplace=True)"
   ]
  },
  {
   "cell_type": "code",
   "execution_count": 109,
   "id": "5da7512f-6e18-438a-9bb7-cb74a13697cd",
   "metadata": {},
   "outputs": [
    {
     "name": "stdout",
     "output_type": "stream",
     "text": [
      "<class 'pandas.core.frame.DataFrame'>\n",
      "Index: 39667 entries, 0 to 39716\n",
      "Data columns (total 28 columns):\n",
      " #   Column               Non-Null Count  Dtype  \n",
      "---  ------               --------------  -----  \n",
      " 0   id                   39667 non-null  int64  \n",
      " 1   member_id            39667 non-null  int64  \n",
      " 2   loan_amnt            39667 non-null  int64  \n",
      " 3   funded_amnt          39667 non-null  int64  \n",
      " 4   funded_amnt_inv      39667 non-null  float64\n",
      " 5   term                 39667 non-null  object \n",
      " 6   int_rate             39667 non-null  object \n",
      " 7   installment          39667 non-null  float64\n",
      " 8   grade                39667 non-null  object \n",
      " 9   sub_grade            39667 non-null  object \n",
      " 10  emp_length           39667 non-null  object \n",
      " 11  home_ownership       39667 non-null  object \n",
      " 12  annual_inc           39667 non-null  float64\n",
      " 13  verification_status  39667 non-null  object \n",
      " 14  issue_d              39667 non-null  object \n",
      " 15  loan_status          39667 non-null  object \n",
      " 16  purpose              39667 non-null  object \n",
      " 17  zip_code             39667 non-null  object \n",
      " 18  addr_state           39667 non-null  object \n",
      " 19  dti                  39667 non-null  float64\n",
      " 20  delinq_2yrs          39667 non-null  int64  \n",
      " 21  earliest_cr_line     39667 non-null  object \n",
      " 22  inq_last_6mths       39667 non-null  int64  \n",
      " 23  open_acc             39667 non-null  int64  \n",
      " 24  pub_rec              39667 non-null  int64  \n",
      " 25  revol_bal            39667 non-null  int64  \n",
      " 26  revol_util           39667 non-null  object \n",
      " 27  total_acc            39667 non-null  int64  \n",
      "dtypes: float64(4), int64(10), object(14)\n",
      "memory usage: 8.8+ MB\n"
     ]
    }
   ],
   "source": [
    "data.info()"
   ]
  },
  {
   "cell_type": "code",
   "execution_count": null,
   "id": "19354b78-cfdf-4138-8b38-74d72a11c679",
   "metadata": {},
   "outputs": [],
   "source": []
  },
  {
   "cell_type": "markdown",
   "id": "352d150b-225a-4ef4-8ae2-0176e6f66ba6",
   "metadata": {},
   "source": [
    "### Standardizing values\n",
    "Approach:\n",
    "- Fixing unwanted characters/spaces in the variable value, if any\n",
    "- Data type conversion"
   ]
  },
  {
   "cell_type": "markdown",
   "id": "b4b3408a-bfeb-4483-92eb-856d8cd0190f",
   "metadata": {},
   "source": [
    "Check & Fix column - `term`"
   ]
  },
  {
   "cell_type": "code",
   "execution_count": 110,
   "id": "c5184ba5-3963-4568-b54c-d6511486040e",
   "metadata": {},
   "outputs": [
    {
     "data": {
      "text/plain": [
       "array([' 36 months', ' 60 months'], dtype=object)"
      ]
     },
     "execution_count": 110,
     "metadata": {},
     "output_type": "execute_result"
    }
   ],
   "source": [
    "data['term'].unique()"
   ]
  },
  {
   "cell_type": "code",
   "execution_count": 111,
   "id": "f29a3b7a-1cf3-4d71-b0a1-eb64e7f79702",
   "metadata": {},
   "outputs": [],
   "source": [
    "## Removing unwanted spaces from term variable\n",
    "data['term'] = data['term'].str.strip()"
   ]
  },
  {
   "cell_type": "markdown",
   "id": "9451e568-b976-495e-b5b6-b101ae329064",
   "metadata": {},
   "source": [
    "Check & Fix column - `int_rate`"
   ]
  },
  {
   "cell_type": "code",
   "execution_count": 112,
   "id": "26c539c4-35c8-4c7e-b1df-199d99463650",
   "metadata": {},
   "outputs": [
    {
     "data": {
      "text/plain": [
       "array(['10.65%', '15.27%', '15.96%', '13.49%', '12.69%', '7.90%',\n",
       "       '18.64%', '21.28%', '14.65%', '9.91%', '16.29%', '6.03%', '11.71%',\n",
       "       '12.42%', '14.27%', '16.77%', '7.51%', '8.90%', '18.25%', '6.62%',\n",
       "       '19.91%', '17.27%', '17.58%', '21.67%', '19.42%', '22.06%',\n",
       "       '20.89%', '20.30%', '23.91%', '19.03%', '23.52%', '23.13%',\n",
       "       '22.74%', '22.35%', '24.11%', '6.00%', '22.11%', '7.49%', '11.99%',\n",
       "       '5.99%', '10.99%', '9.99%', '18.79%', '11.49%', '8.49%', '15.99%',\n",
       "       '16.49%', '6.99%', '12.99%', '15.23%', '14.79%', '5.42%', '10.59%',\n",
       "       '17.49%', '15.62%', '21.36%', '19.29%', '13.99%', '18.39%',\n",
       "       '16.89%', '17.99%', '20.62%', '20.99%', '22.85%', '19.69%',\n",
       "       '20.25%', '23.22%', '21.74%', '22.48%', '23.59%', '12.62%',\n",
       "       '18.07%', '11.63%', '7.91%', '7.42%', '11.14%', '20.20%', '12.12%',\n",
       "       '19.39%', '16.11%', '17.54%', '22.64%', '13.84%', '16.59%',\n",
       "       '17.19%', '12.87%', '20.69%', '9.67%', '21.82%', '19.79%',\n",
       "       '18.49%', '22.94%', '24.59%', '24.40%', '21.48%', '14.82%',\n",
       "       '14.17%', '7.29%', '17.88%', '20.11%', '16.02%', '17.51%',\n",
       "       '13.43%', '14.91%', '13.06%', '15.28%', '15.65%', '17.14%',\n",
       "       '11.11%', '10.37%', '16.40%', '7.66%', '10.00%', '18.62%',\n",
       "       '10.74%', '5.79%', '6.92%', '9.63%', '14.54%', '12.68%', '19.36%',\n",
       "       '13.80%', '18.99%', '21.59%', '20.85%', '21.22%', '19.74%',\n",
       "       '20.48%', '6.91%', '12.23%', '12.61%', '10.36%', '6.17%', '6.54%',\n",
       "       '9.25%', '16.69%', '15.95%', '8.88%', '13.35%', '9.62%', '16.32%',\n",
       "       '12.98%', '14.83%', '13.72%', '14.09%', '14.46%', '20.03%',\n",
       "       '17.80%', '15.20%', '15.57%', '18.54%', '19.66%', '17.06%',\n",
       "       '18.17%', '17.43%', '20.40%', '20.77%', '18.91%', '21.14%',\n",
       "       '17.44%', '13.23%', '7.88%', '11.12%', '13.61%', '10.38%',\n",
       "       '17.56%', '17.93%', '15.58%', '13.98%', '14.84%', '15.21%',\n",
       "       '6.76%', '6.39%', '11.86%', '7.14%', '14.35%', '16.82%', '10.75%',\n",
       "       '14.72%', '16.45%', '18.67%', '20.53%', '19.41%', '20.16%',\n",
       "       '21.27%', '18.30%', '19.04%', '20.90%', '21.64%', '12.73%',\n",
       "       '10.25%', '13.11%', '10.62%', '13.48%', '14.59%', '16.07%',\n",
       "       '15.70%', '9.88%', '11.36%', '15.33%', '13.85%', '14.96%',\n",
       "       '14.22%', '7.74%', '13.22%', '13.57%', '8.59%', '17.04%', '14.61%',\n",
       "       '8.94%', '12.18%', '11.83%', '11.48%', '16.35%', '13.92%',\n",
       "       '15.31%', '14.26%', '19.13%', '12.53%', '16.70%', '16.00%',\n",
       "       '17.39%', '18.09%', '7.40%', '18.43%', '17.74%', '7.05%', '20.52%',\n",
       "       '20.86%', '19.47%', '18.78%', '21.21%', '19.82%', '20.17%',\n",
       "       '13.16%', '8.00%', '13.47%', '12.21%', '16.63%', '9.32%', '12.84%',\n",
       "       '11.26%', '15.68%', '15.37%', '10.95%', '11.89%', '14.11%',\n",
       "       '13.79%', '7.68%', '11.58%', '7.37%', '16.95%', '15.05%', '18.53%',\n",
       "       '14.74%', '14.42%', '18.21%', '17.26%', '18.84%', '17.90%',\n",
       "       '19.16%', '13.67%', '9.38%', '12.72%', '13.36%', '11.46%',\n",
       "       '10.51%', '9.07%', '13.04%', '11.78%', '12.41%', '10.83%',\n",
       "       '12.09%', '17.46%', '14.30%', '17.15%', '15.25%', '10.20%',\n",
       "       '15.88%', '14.93%', '16.20%', '18.72%', '14.62%', '8.32%',\n",
       "       '14.12%', '10.96%', '10.33%', '10.01%', '12.86%', '11.28%',\n",
       "       '11.59%', '8.63%', '12.54%', '12.22%', '11.91%', '15.38%',\n",
       "       '16.96%', '13.17%', '9.70%', '16.33%', '14.75%', '15.07%',\n",
       "       '16.01%', '10.71%', '10.64%', '9.76%', '11.34%', '10.39%',\n",
       "       '13.87%', '11.03%', '11.66%', '13.24%', '10.08%', '9.45%',\n",
       "       '13.55%', '12.29%', '11.97%', '12.92%', '15.45%', '14.50%',\n",
       "       '14.18%', '15.13%', '16.08%', '15.76%', '17.03%', '17.34%',\n",
       "       '16.71%', '9.83%', '13.62%', '10.46%', '9.51%', '9.20%', '13.30%',\n",
       "       '10.78%', '7.75%', '8.38%', '12.36%', '12.67%', '11.72%', '13.93%',\n",
       "       '8.07%', '7.43%', '12.04%', '14.25%', '14.88%', '11.41%', '11.09%',\n",
       "       '10.14%', '16.15%', '15.83%', '7.12%', '18.36%', '9.64%', '9.96%',\n",
       "       '11.22%', '9.01%', '9.33%', '11.54%', '12.17%', '12.80%', '14.38%',\n",
       "       '13.75%', '14.70%', '12.49%', '14.07%', '10.91%', '13.12%',\n",
       "       '10.28%', '8.70%', '14.67%', '15.01%'], dtype=object)"
      ]
     },
     "execution_count": 112,
     "metadata": {},
     "output_type": "execute_result"
    }
   ],
   "source": [
    "data['int_rate'].unique()"
   ]
  },
  {
   "cell_type": "code",
   "execution_count": 113,
   "id": "1fb817e8-c6af-417a-ba0d-4c36a6038d9a",
   "metadata": {},
   "outputs": [],
   "source": [
    "## int_rate have % character. Removing it.\n",
    "## It can also be converted into floating point integer\n",
    "data['int_rate'] = data['int_rate'].str.strip('%').astype(float)"
   ]
  },
  {
   "cell_type": "markdown",
   "id": "0bf3d474-9eb4-419b-97b1-57acc9a3c71d",
   "metadata": {},
   "source": [
    "Check & Fix column - `revol_util`"
   ]
  },
  {
   "cell_type": "code",
   "execution_count": 114,
   "id": "1afbd307-506f-4b6b-ad89-14174acd788b",
   "metadata": {},
   "outputs": [
    {
     "data": {
      "text/plain": [
       "array(['83.70%', '9.40%', '98.50%', ..., '49.63%', '0.04%', '7.28%'],\n",
       "      dtype=object)"
      ]
     },
     "execution_count": 114,
     "metadata": {},
     "output_type": "execute_result"
    }
   ],
   "source": [
    "data['revol_util'].unique()"
   ]
  },
  {
   "cell_type": "code",
   "execution_count": 115,
   "id": "4a443693-8c95-46a1-a566-d745c9d0f5b3",
   "metadata": {},
   "outputs": [],
   "source": [
    "## revol_util have % character. Removing it.\n",
    "## It can also be converted into floating point integer\n",
    "data['revol_util'] = data['revol_util'].str.strip('%').astype(float)"
   ]
  },
  {
   "cell_type": "markdown",
   "id": "a1caf277-ad93-483b-8817-d3f06d197b7e",
   "metadata": {},
   "source": [
    "Check & Fix column - `grade`, `sub_grade`, `emp_length`, `home_ownership`, `verification_status`, `loan_status`, `purpose`, `zip_code`, `addr_state`\n",
    "\n",
    "No changes are required in any of the mentioned column here. Please see below. <br>\n",
    "NOTE: `emp_length` column have characters like `+` and `<` which we can't replace with exact value"
   ]
  },
  {
   "cell_type": "code",
   "execution_count": 116,
   "id": "8a77c0ba-6f0e-4301-832a-4ac1eb89c2ef",
   "metadata": {},
   "outputs": [
    {
     "data": {
      "text/plain": [
       "array(['AZ', 'GA', 'IL', 'CA', 'OR', 'NC', 'TX', 'VA', 'MO', 'CT', 'UT',\n",
       "       'FL', 'NY', 'PA', 'MN', 'NJ', 'KY', 'OH', 'SC', 'RI', 'LA', 'MA',\n",
       "       'WA', 'WI', 'AL', 'CO', 'KS', 'NV', 'AK', 'MD', 'WV', 'VT', 'MI',\n",
       "       'DC', 'SD', 'NH', 'AR', 'NM', 'MT', 'HI', 'WY', 'OK', 'DE', 'MS',\n",
       "       'TN', 'IA', 'NE', 'ID', 'IN', 'ME'], dtype=object)"
      ]
     },
     "execution_count": 116,
     "metadata": {},
     "output_type": "execute_result"
    }
   ],
   "source": [
    "## No changes are required for any of the following column\n",
    "data['grade'].unique()\n",
    "data['sub_grade'].unique()\n",
    "data['emp_length'].unique()\n",
    "data['home_ownership'].unique()\n",
    "data['verification_status'].unique()\n",
    "data['loan_status'].unique()\n",
    "data['purpose'].unique()\n",
    "data['zip_code'].unique()\n",
    "data['addr_state'].unique()"
   ]
  },
  {
   "cell_type": "markdown",
   "id": "04d970ec-fb3d-45d7-ac5b-96b85a02c683",
   "metadata": {},
   "source": [
    "Check & Fix column - `issue_d` and `earliest_cr_line`\n",
    "\n",
    "NOTE:\n",
    "- These are date-year value column. We can convert them to datetime format\n",
    "- Later, we can also Derive columns from it."
   ]
  },
  {
   "cell_type": "code",
   "execution_count": 117,
   "id": "65d62630-70af-4d9f-b9a1-753bc8042b51",
   "metadata": {},
   "outputs": [
    {
     "data": {
      "text/plain": [
       "array(['Dec-11', 'Nov-11', 'Oct-11', 'Sep-11', 'Aug-11', 'Jul-11',\n",
       "       'Jun-11', 'May-11', 'Apr-11', 'Mar-11', 'Feb-11', 'Jan-11',\n",
       "       'Dec-10', 'Nov-10', 'Oct-10', 'Sep-10', 'Aug-10', 'Jul-10',\n",
       "       'Jun-10', 'May-10', 'Apr-10', 'Mar-10', 'Feb-10', 'Jan-10',\n",
       "       'Dec-09', 'Nov-09', 'Oct-09', 'Sep-09', 'Aug-09', 'Jul-09',\n",
       "       'Jun-09', 'May-09', 'Apr-09', 'Mar-09', 'Feb-09', 'Jan-09',\n",
       "       'Dec-08', 'Nov-08', 'Oct-08', 'Sep-08', 'Aug-08', 'Jul-08',\n",
       "       'Jun-08', 'May-08', 'Apr-08', 'Mar-08', 'Feb-08', 'Jan-08',\n",
       "       'Dec-07', 'Nov-07', 'Oct-07', 'Sep-07', 'Aug-07', 'Jul-07',\n",
       "       'Jun-07'], dtype=object)"
      ]
     },
     "execution_count": 117,
     "metadata": {},
     "output_type": "execute_result"
    }
   ],
   "source": [
    "data['issue_d'].unique()\n",
    "\n",
    "# data['earliest_cr_line'].unique()"
   ]
  },
  {
   "cell_type": "code",
   "execution_count": 118,
   "id": "9c57da1f-5854-4b45-a0d4-57f053bb26a4",
   "metadata": {},
   "outputs": [],
   "source": [
    "## Convert to Date time datatype\n",
    "data['issue_d'] = pd.to_datetime(data['issue_d'], format='%b-%y', errors='coerce')\n",
    "data['earliest_cr_line'] = pd.to_datetime(data['earliest_cr_line'], format='%b-%y', errors='coerce')"
   ]
  },
  {
   "cell_type": "code",
   "execution_count": 119,
   "id": "ad40c2a8-7df8-435c-951d-36beb55f0c6d",
   "metadata": {},
   "outputs": [
    {
     "data": {
      "text/plain": [
       "count                            39667\n",
       "mean     1997-04-09 11:16:01.191922816\n",
       "min                1969-02-01 00:00:00\n",
       "25%                1993-12-01 00:00:00\n",
       "50%                1998-05-01 00:00:00\n",
       "75%                2001-09-01 00:00:00\n",
       "max                2068-12-01 00:00:00\n",
       "Name: earliest_cr_line, dtype: object"
      ]
     },
     "execution_count": 119,
     "metadata": {},
     "output_type": "execute_result"
    }
   ],
   "source": [
    "## Display value post conversion\n",
    "data['issue_d'].describe()\n",
    "data['earliest_cr_line'].describe()"
   ]
  },
  {
   "cell_type": "markdown",
   "id": "d04077fb-a082-42dd-8d61-698a52007158",
   "metadata": {},
   "source": [
    "### Calculate Derived Metrics\n",
    "Approach:\n",
    "Derive Year and month from `issue_d` and `earliest_cr_line` columns"
   ]
  },
  {
   "cell_type": "code",
   "execution_count": 120,
   "id": "f225120c-7fa1-4972-b44d-c10e4b254142",
   "metadata": {},
   "outputs": [],
   "source": [
    "## Type Driven variable are created from issue_d and earliest_cr_line columns\n",
    "data['issue_d_month'] = data['issue_d'].dt.month\n",
    "data['issue_d_year'] = data['issue_d'].dt.year\n",
    "data['earliest_cr_line_month'] = data['earliest_cr_line'].dt.month\n",
    "data['earliest_cr_line_year'] = data['earliest_cr_line'].dt.year"
   ]
  },
  {
   "cell_type": "markdown",
   "id": "07b90977-a769-441f-af94-ccb50b0e3dec",
   "metadata": {},
   "source": [
    "#### Filtering the \"Charged Off\" and \"Fully Paid\" data which is required for our analysis and dropping rows with Loan status \"Current\"."
   ]
  },
  {
   "cell_type": "code",
   "execution_count": 207,
   "id": "6183166e-584e-43e0-b2cc-249b8c4cc08f",
   "metadata": {},
   "outputs": [
    {
     "data": {
      "text/plain": [
       "(38527, 32)"
      ]
     },
     "execution_count": 207,
     "metadata": {},
     "output_type": "execute_result"
    }
   ],
   "source": [
    "filtered_data = data[data['loan_status'] != 'Current']\n",
    "filtered_data.shape"
   ]
  },
  {
   "cell_type": "code",
   "execution_count": 208,
   "id": "ec685117-89f4-4345-a437-cc1e798e43d4",
   "metadata": {},
   "outputs": [
    {
     "data": {
      "text/plain": [
       "RangeIndex(start=0, stop=38527, step=1)"
      ]
     },
     "execution_count": 208,
     "metadata": {},
     "output_type": "execute_result"
    }
   ],
   "source": [
    "## Resetting the data Frame index before analyzing data using charts\n",
    "filtered_data.reset_index(drop=True, inplace=True)\n",
    "filtered_data.index"
   ]
  },
  {
   "cell_type": "markdown",
   "id": "5370fb19-e455-4820-a177-f84481424b1c",
   "metadata": {},
   "source": [
    "## Univariate Analysis\n",
    "Approach: Analyze single variable using:\n",
    "- Summary Statistics\n",
    "- Histograms\n",
    "- Box plots\n",
    "  - Remove outliers\n",
    "- Density plot"
   ]
  },
  {
   "attachments": {},
   "cell_type": "markdown",
   "id": "b3ba6616-1afe-44d8-9033-8aae65476a47",
   "metadata": {},
   "source": [
    "### `Analysing Loan Amount`\n",
    "Loan applied for by the borrower.\r\n"
   ]
  },
  {
   "cell_type": "code",
   "execution_count": 209,
   "id": "bd487fb9-5dd0-4c91-a4a8-d62d41110296",
   "metadata": {},
   "outputs": [
    {
     "data": {
      "image/png": "[encoded data removed]",
      "text/plain": [
       "<Figure size 1500x500 with 1 Axes>"
      ]
     },
     "metadata": {},
     "output_type": "display_data"
    }
   ],
   "source": [
    "## Distribution plot\n",
    "plt.figure(figsize=(15,5))\n",
    "sns.histplot(filtered_data['loan_amnt'], kde=True)\n",
    "plt.title('Distribution of Loan Amount')\n",
    "plt.show()\n",
    "\n"
   ]
  },
  {
   "cell_type": "code",
   "execution_count": 210,
   "id": "0ab7ce84-6b80-4f31-bdaa-5c59a8528735",
   "metadata": {},
   "outputs": [
    {
     "data": {
      "text/plain": [
       "count    38527.000000\n",
       "mean     11055.265139\n",
       "std       7348.433587\n",
       "min        500.000000\n",
       "25%       5325.000000\n",
       "50%       9600.000000\n",
       "75%      15000.000000\n",
       "max      35000.000000\n",
       "Name: loan_amnt, dtype: float64"
      ]
     },
     "execution_count": 210,
     "metadata": {},
     "output_type": "execute_result"
    }
   ],
   "source": [
    "## Checking percentile for loan applied\n",
    "filtered_data['loan_amnt'].describe()"
   ]
  },
  {
   "cell_type": "markdown",
   "id": "c784706f-b5d4-4927-902a-9bafe0ff3d05",
   "metadata": {},
   "source": [
    "##### Observations:\n",
    "Many people applied for loan amount 10000. Also, median value is 9600 indicating the distribution of applied loan amount.\n",
    "Very few people applied for higher amount (25000 - 35000) loan."
   ]
  },
  {
   "attachments": {},
   "cell_type": "markdown",
   "id": "1ad03d27-2c9e-4def-9425-20b3ee2b7c83",
   "metadata": {},
   "source": [
    "## `Analysing Funded Amount`\n"
   ]
  },
  {
   "cell_type": "markdown",
   "id": "924cee7b-bfde-4c3b-9855-6cc8e03f8f81",
   "metadata": {},
   "source": [
    "The total amount committed to that loan at that point in time."
   ]
  },
  {
   "cell_type": "code",
   "execution_count": 211,
   "id": "e795f7f4-d207-400d-8b96-de2c4de4534f",
   "metadata": {},
   "outputs": [
    {
     "data": {
      "image/png": "[encoded data removed]",
      "text/plain": [
       "<Figure size 640x480 with 1 Axes>"
      ]
     },
     "metadata": {},
     "output_type": "display_data"
    }
   ],
   "source": [
    "## Distribution plot\n",
    "sns.histplot(filtered_data['funded_amnt'], kde=True)\n",
    "plt.title('Funded Loan Amount')\n",
    "plt.show()"
   ]
  },
  {
   "cell_type": "code",
   "execution_count": 212,
   "id": "357027f0-56d9-401c-96ba-724bb1acaff1",
   "metadata": {},
   "outputs": [
    {
     "data": {
      "text/plain": [
       "count    38527.000000\n",
       "mean     10791.956939\n",
       "std       7090.256225\n",
       "min        500.000000\n",
       "25%       5200.000000\n",
       "50%       9600.000000\n",
       "75%      15000.000000\n",
       "max      35000.000000\n",
       "Name: funded_amnt, dtype: float64"
      ]
     },
     "execution_count": 212,
     "metadata": {},
     "output_type": "execute_result"
    }
   ],
   "source": [
    "filtered_data['funded_amnt'].describe()"
   ]
  },
  {
   "cell_type": "markdown",
   "id": "110cde19-4545-430f-a2f7-93e60a502dbe",
   "metadata": {},
   "source": [
    "##### Observations:\n",
    "Funded amount distribution is very close the applied loan distribution. Median is also 9600.\n",
    "This is indicating that applied loan amount are mostly approved by lender for the same amount."
   ]
  },
  {
   "attachments": {},
   "cell_type": "markdown",
   "id": "7b1ba0ef-5a97-44ee-b6aa-bd7356f3a0e0",
   "metadata": {},
   "source": [
    "## `Analysing Funded Amount By Investors`\n"
   ]
  },
  {
   "cell_type": "markdown",
   "id": "41d33ff6-5d84-47a9-a30a-69abf82a01d3",
   "metadata": {},
   "source": [
    "The total amount committed by investors for that loan at that point in time."
   ]
  },
  {
   "cell_type": "code",
   "execution_count": 213,
   "id": "1994305d-fc27-4965-a151-8d69583cf503",
   "metadata": {},
   "outputs": [
    {
     "data": {
      "image/png": "[encoded data removed]",
      "text/plain": [
       "<Figure size 640x480 with 1 Axes>"
      ]
     },
     "metadata": {},
     "output_type": "display_data"
    }
   ],
   "source": [
    "sns.histplot(filtered_data['funded_amnt_inv'], kde=True)\n",
    "plt.title('Funded Loan Amount By Investors')\n",
    "plt.show()"
   ]
  },
  {
   "cell_type": "code",
   "execution_count": 214,
   "id": "c58b46a6-013a-4e8d-a6a6-9cfb8f6a8893",
   "metadata": {},
   "outputs": [
    {
     "data": {
      "text/plain": [
       "count    38527.000000\n",
       "mean     10230.940095\n",
       "std       7022.678989\n",
       "min          0.000000\n",
       "25%       5000.000000\n",
       "50%       8750.000000\n",
       "75%      14000.000000\n",
       "max      35000.000000\n",
       "Name: funded_amnt_inv, dtype: float64"
      ]
     },
     "execution_count": 214,
     "metadata": {},
     "output_type": "execute_result"
    }
   ],
   "source": [
    "filtered_data['funded_amnt_inv'].describe()"
   ]
  },
  {
   "cell_type": "markdown",
   "id": "75258798-593a-4f59-9782-c84bf81b2f03",
   "metadata": {},
   "source": [
    "##### Observations:\n",
    "Funded amount committed by investors are very close to loan amount applied by the borrower but lesser then the applied amount."
   ]
  },
  {
   "cell_type": "markdown",
   "id": "68a8743e-0db1-4d85-b8d1-42cb8423f024",
   "metadata": {},
   "source": [
    "## `Analysing Interest Rates`"
   ]
  },
  {
   "attachments": {},
   "cell_type": "markdown",
   "id": "4ef66ed2-eb2e-4d8e-bd9f-fbb1b8754763",
   "metadata": {},
   "source": [
    "Interest Rate on the loan\r\n"
   ]
  },
  {
   "cell_type": "code",
   "execution_count": 215,
   "id": "a7a90884-60eb-4cfd-ad89-1fa59ada083d",
   "metadata": {},
   "outputs": [
    {
     "data": {
      "image/png": "[encoded data removed]",
      "text/plain": [
       "<Figure size 1500x500 with 2 Axes>"
      ]
     },
     "metadata": {},
     "output_type": "display_data"
    }
   ],
   "source": [
    "# Lets plot 2 charts - 1 IntRate distribution and another Box plot to analyze the interest rate quartiles\n",
    "plt.figure(figsize=(15,5))\n",
    "plt.subplot(1,2,1)\n",
    "sns.histplot(filtered_data['int_rate'], kde=True, color='green')\n",
    "plt.title('Interest Rates offered by LC')\n",
    "plt.subplot(1,2,2)\n",
    "sns.boxplot(filtered_data['int_rate'])\n",
    "plt.title('Interest Rate quartiles Range')\n",
    "plt.show()"
   ]
  },
  {
   "cell_type": "markdown",
   "id": "fb27d1f0-1815-4539-823c-f4144ac71dcb",
   "metadata": {},
   "source": [
    "##### Observations:\n",
    "For defaulters, ranges of Interest rates offerred by LC are:\n",
    "- Most loans were offered at an interest rate between : 9% to 14.5%\n",
    "- Some loans were offered at lower interest rate      : <9%\n",
    "- Few  loans were offered at higher interest rate     : 22.5%"
   ]
  },
  {
   "cell_type": "markdown",
   "id": "20f443ca-d7d3-48bd-89d8-9b59858f4ee7",
   "metadata": {},
   "source": [
    " ## `Analysing Annual Income`"
   ]
  },
  {
   "attachments": {},
   "cell_type": "markdown",
   "id": "4d5cdfbd-94a3-488f-a581-6101013fd130",
   "metadata": {},
   "source": [
    "The self-reported annual income provided by the borrower during registration.\n"
   ]
  },
  {
   "cell_type": "code",
   "execution_count": 228,
   "id": "a27f1fab-df33-46a8-942f-e553f50b81fd",
   "metadata": {},
   "outputs": [
    {
     "data": {
      "text/plain": [
       "<Axes: >"
      ]
     },
     "execution_count": 228,
     "metadata": {},
     "output_type": "execute_result"
    },
    {
     "data": {
      "image/png": "[encoded data removed]",
      "text/plain": [
       "<Figure size 640x480 with 1 Axes>"
      ]
     },
     "metadata": {},
     "output_type": "display_data"
    }
   ],
   "source": [
    "sns.boxplot(filtered_data['annual_inc'], orient='h', )"
   ]
  },
  {
   "cell_type": "code",
   "execution_count": 229,
   "id": "1386a7f8-0a96-4f58-9d9b-01704f680df3",
   "metadata": {},
   "outputs": [
    {
     "data": {
      "text/plain": [
       "count    3.852700e+04\n",
       "mean     6.880923e+04\n",
       "std      6.421493e+04\n",
       "min      4.000000e+03\n",
       "25%      4.000000e+04\n",
       "50%      5.900000e+04\n",
       "75%      8.200000e+04\n",
       "max      6.000000e+06\n",
       "Name: annual_inc, dtype: float64"
      ]
     },
     "execution_count": 229,
     "metadata": {},
     "output_type": "execute_result"
    }
   ],
   "source": [
    "filtered_data['annual_inc'].describe()\n",
    "\n",
    "\n",
    "## Seems there's an outliers in Inc income\n",
    "\n",
    "# filtered_data['annual_inc'].describe().apply(lambda x: format(x, 'f'))\n",
    "\n",
    "# filtered_data['int_rate']\n",
    "\n",
    "# plt.subplot(1,2,1)\n",
    "# sns.histplot(filtered_data['annual_inc'], kde=True, bins=5, labels=['4k-10k','','','',''])\n",
    "# plt.title('Interest Rates offered by LC')\n",
    "# plt.show()\n",
    "\n",
    "# sns.barplot(x='index', y=filtered_data['annual_inc'].value_counts())\n",
    "# var = 'annual_inc'\n",
    "# prob_df = filtered_data[var].value_counts(normalize=True).reset_index()\n",
    "# sns.barplot(y='proportion', x=var, data=prob_df)\n",
    "# filtered_data['annual_inc'].value_counts()\n",
    "\n",
    "# filtered_data['annual_inc'].value_counts()"
   ]
  },
  {
   "cell_type": "code",
   "execution_count": 235,
   "id": "2508c792-d01a-41c9-b6e0-bf9243eb698e",
   "metadata": {},
   "outputs": [
    {
     "name": "stdout",
     "output_type": "stream",
     "text": [
      "59000.0\n"
     ]
    },
    {
     "data": {
      "text/plain": [
       "0.50     59000.0\n",
       "0.90    115000.0\n",
       "0.95    140004.0\n",
       "0.97    165000.0\n",
       "0.98    187000.0\n",
       "0.99    234000.0\n",
       "Name: annual_inc, dtype: float64"
      ]
     },
     "execution_count": 235,
     "metadata": {},
     "output_type": "execute_result"
    }
   ],
   "source": [
    "print(filtered_data['annual_inc'].median())\n",
    "\n",
    "filtered_data['annual_inc'].quantile([0.5,0.9,0.95,0.97,0.98, 0.99])"
   ]
  },
  {
   "cell_type": "code",
   "execution_count": 236,
   "id": "d9db243f-c2ca-422f-8571-e90ed3695a2c",
   "metadata": {},
   "outputs": [],
   "source": [
    "## Looking at the above data, meadian is 59000 and there are huge increase in values from 90 to 95%.\n",
    "## It's safe to drop values above 0.95 quantiles \n",
    "\n",
    "annual_inc_95 = filtered_data['annual_inc'].quantile(0.95)\n",
    "filtered_data = filtered_data[filtered_data['annual_inc'] <= annual_inc_95]"
   ]
  },
  {
   "cell_type": "code",
   "execution_count": 237,
   "id": "4199e8da-d3af-47ef-84b4-88a4b46bfe59",
   "metadata": {},
   "outputs": [
    {
     "data": {
      "text/plain": [
       "<Axes: >"
      ]
     },
     "execution_count": 237,
     "metadata": {},
     "output_type": "execute_result"
    },
    {
     "data": {
      "image/png": "[encoded data removed]",
      "text/plain": [
       "<Figure size 640x480 with 1 Axes>"
      ]
     },
     "metadata": {},
     "output_type": "display_data"
    }
   ],
   "source": [
    "sns.boxplot(filtered_data['annual_inc'], orient='h', )"
   ]
  },
  {
   "cell_type": "markdown",
   "id": "44bde739-3d4c-4f6d-8beb-2593e5fd4246",
   "metadata": {},
   "source": [
    "Now the annual Income boxplot looks much better after removing the outliers."
   ]
  },
  {
   "cell_type": "code",
   "execution_count": 239,
   "id": "abd8c7e7-ef0a-4f4a-b15e-3b1bd5e19c5b",
   "metadata": {},
   "outputs": [
    {
     "data": {
      "image/png": "[encoded data removed]",
      "text/plain": [
       "<Figure size 640x480 with 1 Axes>"
      ]
     },
     "metadata": {},
     "output_type": "display_data"
    }
   ],
   "source": [
    "sns.histplot(filtered_data['annual_inc'], kde=True)\n",
    "plt.show()"
   ]
  },
  {
   "cell_type": "markdown",
   "id": "ccc56671-b384-4f50-9a83-48b7fda206b2",
   "metadata": {},
   "source": [
    "##### Observations:"
   ]
  },
  {
   "cell_type": "markdown",
   "id": "dc8a8a7d-7290-42f4-81e3-751919db4933",
   "metadata": {},
   "source": [
    "This is giving us insight about the borrowers annual income ranges."
   ]
  },
  {
   "cell_type": "code",
   "execution_count": null,
   "id": "1ea8929c-01a4-4fa0-85cb-ecaf8f23799f",
   "metadata": {},
   "outputs": [],
   "source": []
  },
  {
   "cell_type": "markdown",
   "id": "1a87aea1-6ad6-423a-b582-94f04f044499",
   "metadata": {},
   "source": [
    " ## `Analysing ...`"
   ]
  },
  {
   "cell_type": "markdown",
   "id": "f4ea5db4-6773-49e9-9770-9fd23fcf00d0",
   "metadata": {},
   "source": []
  },
  {
   "cell_type": "code",
   "execution_count": null,
   "id": "a21de106-733c-420e-a904-fac4aabbbcfc",
   "metadata": {},
   "outputs": [],
   "source": []
  },
  {
   "cell_type": "code",
   "execution_count": null,
   "id": "c2792dd5-6f60-44e5-b025-05909b5782f4",
   "metadata": {},
   "outputs": [],
   "source": []
  },
  {
   "cell_type": "markdown",
   "id": "d50dd481-88cb-4f6a-822b-bfa6d9b5af64",
   "metadata": {},
   "source": [
    "##### Observations:"
   ]
  },
  {
   "cell_type": "code",
   "execution_count": null,
   "id": "ff219e67-05ca-446a-9fef-898ca81fb194",
   "metadata": {},
   "outputs": [],
   "source": []
  },
  {
   "cell_type": "markdown",
   "id": "43eae6fb-2949-4b38-8bea-fdaa3b9f6e1d",
   "metadata": {},
   "source": [
    " ## `Analysing ...`"
   ]
  },
  {
   "cell_type": "markdown",
   "id": "6fa95c0b-ad99-4cee-b7fc-d73c9af68aa9",
   "metadata": {},
   "source": []
  },
  {
   "cell_type": "code",
   "execution_count": null,
   "id": "ef1220a1-284f-4e6c-aca2-a654ea9d49ac",
   "metadata": {},
   "outputs": [],
   "source": []
  },
  {
   "cell_type": "code",
   "execution_count": null,
   "id": "5907c995-e42e-4d95-8f84-315d3a338b63",
   "metadata": {},
   "outputs": [],
   "source": []
  },
  {
   "cell_type": "markdown",
   "id": "a5e04cc1-a21e-4201-bf99-03cd4f3b17e6",
   "metadata": {},
   "source": [
    "##### Observations:"
   ]
  },
  {
   "cell_type": "markdown",
   "id": "48625c14-bea0-4eb7-929d-eaac84f30206",
   "metadata": {},
   "source": [
    " ## `Analysing ...`"
   ]
  },
  {
   "cell_type": "markdown",
   "id": "f2eb75e4-4ba9-4019-b2e1-363029c09961",
   "metadata": {},
   "source": []
  },
  {
   "cell_type": "code",
   "execution_count": null,
   "id": "9946d658-9367-4e9e-8c4b-32bf9f6e8509",
   "metadata": {},
   "outputs": [],
   "source": []
  },
  {
   "cell_type": "code",
   "execution_count": null,
   "id": "5a3dbf67-078a-4e2c-9c5a-8ea41506747e",
   "metadata": {},
   "outputs": [],
   "source": []
  },
  {
   "cell_type": "markdown",
   "id": "a812b9b9-2550-4870-ac1c-286a6cfe3486",
   "metadata": {},
   "source": [
    "##### Observations:"
   ]
  },
  {
   "cell_type": "markdown",
   "id": "f3677508-b16f-482d-8ff6-eb3ebc3327c8",
   "metadata": {},
   "source": [
    " ## `Analysing ...`"
   ]
  },
  {
   "cell_type": "markdown",
   "id": "6f806491-4340-4876-880d-c590ef139d43",
   "metadata": {},
   "source": []
  },
  {
   "cell_type": "code",
   "execution_count": null,
   "id": "e61a34e1-1fd0-4cec-897f-44483f07ee40",
   "metadata": {},
   "outputs": [],
   "source": []
  },
  {
   "cell_type": "code",
   "execution_count": null,
   "id": "b5aff2b6-d994-4908-bedb-98d3e9c1d405",
   "metadata": {},
   "outputs": [],
   "source": []
  },
  {
   "cell_type": "markdown",
   "id": "0624f30e-7eb1-4b87-b604-ed03fce740e5",
   "metadata": {},
   "source": [
    "##### Observations:"
   ]
  },
  {
   "cell_type": "markdown",
   "id": "5f83b56f-d882-4c07-8a05-9bf1a3c602be",
   "metadata": {},
   "source": [
    " ## `Analysing ...`"
   ]
  },
  {
   "cell_type": "markdown",
   "id": "7becda3e-9d77-4728-a197-4dce641ad820",
   "metadata": {},
   "source": []
  },
  {
   "cell_type": "code",
   "execution_count": null,
   "id": "460570e6-3b05-4a1c-8fe1-1be5234ff333",
   "metadata": {},
   "outputs": [],
   "source": []
  },
  {
   "cell_type": "code",
   "execution_count": null,
   "id": "0d1653f1-6773-46aa-b902-e373f0bdb241",
   "metadata": {},
   "outputs": [],
   "source": []
  },
  {
   "cell_type": "markdown",
   "id": "5b2fe2ce-b1bf-41d7-866b-d237888496d9",
   "metadata": {},
   "source": [
    "##### Observations:"
   ]
  },
  {
   "cell_type": "markdown",
   "id": "65c9c72b-462b-4e9d-b4cd-0b0d6e602c8d",
   "metadata": {},
   "source": [
    " ## `Analysing ...`"
   ]
  },
  {
   "cell_type": "markdown",
   "id": "a3b76a87-f552-4c92-8a2a-8d88d75ab250",
   "metadata": {},
   "source": []
  },
  {
   "cell_type": "code",
   "execution_count": null,
   "id": "32cdca05-71e1-4aae-a064-a58113fb9836",
   "metadata": {},
   "outputs": [],
   "source": []
  },
  {
   "cell_type": "code",
   "execution_count": null,
   "id": "a815cd3f-0193-46b3-b95a-463d36dd399c",
   "metadata": {},
   "outputs": [],
   "source": []
  },
  {
   "cell_type": "markdown",
   "id": "daa3f294-d9b1-46ec-9015-cff77e79331b",
   "metadata": {},
   "source": [
    "##### Observations:"
   ]
  },
  {
   "cell_type": "markdown",
   "id": "ebd6a19a-b9c7-4ab6-a497-eb40d71ab57a",
   "metadata": {},
   "source": [
    " ## `Analysing ...`"
   ]
  },
  {
   "cell_type": "markdown",
   "id": "c3bc147b-3675-4444-9e3a-e272d5257778",
   "metadata": {},
   "source": []
  },
  {
   "cell_type": "code",
   "execution_count": null,
   "id": "0501e218-3ec9-41df-8c97-cbb90c062c58",
   "metadata": {},
   "outputs": [],
   "source": []
  },
  {
   "cell_type": "code",
   "execution_count": null,
   "id": "21812833-6ca4-4c19-a1df-fa317416bbed",
   "metadata": {},
   "outputs": [],
   "source": []
  },
  {
   "cell_type": "markdown",
   "id": "4e6207cd-dab6-4cec-972a-d61232942342",
   "metadata": {},
   "source": [
    "##### Observations:"
   ]
  },
  {
   "cell_type": "markdown",
   "id": "9728e7a3-c7f7-4215-9b02-73fc4c77a37c",
   "metadata": {},
   "source": [
    " ## `Analysing ...`"
   ]
  },
  {
   "cell_type": "markdown",
   "id": "0944de74-ce19-421c-8807-2f9852037677",
   "metadata": {},
   "source": []
  },
  {
   "cell_type": "code",
   "execution_count": null,
   "id": "f242bde3-d9ff-4c7e-94d7-9d13c852a3df",
   "metadata": {},
   "outputs": [],
   "source": []
  },
  {
   "cell_type": "code",
   "execution_count": null,
   "id": "ace07cf3-5656-47d8-bac3-5d62891ef7d6",
   "metadata": {},
   "outputs": [],
   "source": []
  },
  {
   "cell_type": "markdown",
   "id": "21503ac5-f592-4298-a56b-ca9e9486f5b6",
   "metadata": {},
   "source": [
    "##### Observations:"
   ]
  },
  {
   "cell_type": "markdown",
   "id": "cabcf0c3-1c3a-49a3-bf9f-b18db0f54b8b",
   "metadata": {},
   "source": [
    " ## `Analysing ...`"
   ]
  },
  {
   "cell_type": "markdown",
   "id": "3d969eb7-5667-410d-9033-7fd3ba9759c4",
   "metadata": {},
   "source": []
  },
  {
   "cell_type": "code",
   "execution_count": null,
   "id": "1159816a-19ea-43bd-9872-db2f3f0d0bac",
   "metadata": {},
   "outputs": [],
   "source": []
  },
  {
   "cell_type": "code",
   "execution_count": null,
   "id": "a4a844b0-cfe2-4d9d-9590-4a8bac587826",
   "metadata": {},
   "outputs": [],
   "source": []
  },
  {
   "cell_type": "markdown",
   "id": "93773666-3dfd-4e20-8db9-94eea7bff45b",
   "metadata": {},
   "source": [
    "##### Observations:"
   ]
  },
  {
   "cell_type": "markdown",
   "id": "cdd64864-a8ed-4de6-a0cc-e1f95ead1ae1",
   "metadata": {},
   "source": [
    " ## `Analysing ...`"
   ]
  },
  {
   "cell_type": "markdown",
   "id": "ecc0e0f5-0f83-40bb-9d89-a9e66b136363",
   "metadata": {},
   "source": []
  },
  {
   "cell_type": "code",
   "execution_count": null,
   "id": "68e64cb6-9358-49db-bc4c-8558d35e6d79",
   "metadata": {},
   "outputs": [],
   "source": []
  },
  {
   "cell_type": "code",
   "execution_count": null,
   "id": "2a400e0c-e0f8-4af1-88db-3c2d23d5c331",
   "metadata": {},
   "outputs": [],
   "source": []
  },
  {
   "cell_type": "markdown",
   "id": "1ea5d109-2582-4dec-a5e1-7ddc991a4c8b",
   "metadata": {},
   "source": [
    "##### Observations:"
   ]
  },
  {
   "cell_type": "markdown",
   "id": "4d82db5c-d1bf-49e5-bdbd-6c0ec81fdcf5",
   "metadata": {},
   "source": [
    " ## `Analysing ...`"
   ]
  },
  {
   "cell_type": "markdown",
   "id": "b620678e-73c1-405a-a7d7-84e7345e0dc9",
   "metadata": {},
   "source": []
  },
  {
   "cell_type": "code",
   "execution_count": null,
   "id": "fffc4504-d83f-4a3d-876f-02631886ee46",
   "metadata": {},
   "outputs": [],
   "source": []
  },
  {
   "cell_type": "code",
   "execution_count": null,
   "id": "369791c3-2ede-4f5e-914e-57125b84569e",
   "metadata": {},
   "outputs": [],
   "source": []
  },
  {
   "cell_type": "markdown",
   "id": "d1211656-e212-476f-89a0-1606a4d7ed1a",
   "metadata": {},
   "source": [
    "##### Observations:"
   ]
  },
  {
   "cell_type": "code",
   "execution_count": null,
   "id": "ce9cfcbc-f743-47cb-b387-fbae30f9cd56",
   "metadata": {},
   "outputs": [],
   "source": []
  },
  {
   "cell_type": "code",
   "execution_count": null,
   "id": "ed39303b-dabd-40c8-9846-53d262ad295c",
   "metadata": {},
   "outputs": [],
   "source": []
  },
  {
   "cell_type": "code",
   "execution_count": null,
   "id": "216666f0-f93e-435c-9c18-5f6259a62b4f",
   "metadata": {},
   "outputs": [],
   "source": []
  },
  {
   "cell_type": "code",
   "execution_count": null,
   "id": "52443645-0db9-496e-87b1-cc16d26c33eb",
   "metadata": {},
   "outputs": [],
   "source": []
  },
  {
   "cell_type": "code",
   "execution_count": null,
   "id": "0dba688f-ac2a-4395-b215-968c37e5620d",
   "metadata": {},
   "outputs": [],
   "source": []
  },
  {
   "cell_type": "code",
   "execution_count": null,
   "id": "3d7d1220-da90-4fcc-b0fd-6f0e546063ab",
   "metadata": {},
   "outputs": [],
   "source": []
  },
  {
   "cell_type": "code",
   "execution_count": null,
   "id": "b7053ac2-de28-432b-a3bb-57a33884dd13",
   "metadata": {},
   "outputs": [],
   "source": []
  },
  {
   "cell_type": "code",
   "execution_count": null,
   "id": "6002afe6-60bf-46c0-a50a-16a7d971f0b4",
   "metadata": {},
   "outputs": [],
   "source": []
  },
  {
   "cell_type": "markdown",
   "id": "9b0d9415-3e74-493b-b353-d409fcf18d55",
   "metadata": {},
   "source": [
    "##### Observations:"
   ]
  },
  {
   "cell_type": "code",
   "execution_count": null,
   "id": "755555e0-648f-4d9d-b13b-43f32103a93a",
   "metadata": {},
   "outputs": [],
   "source": []
  },
  {
   "cell_type": "code",
   "execution_count": null,
   "id": "a53bc8fb-5cd7-4622-a1fb-3c6d01b175bb",
   "metadata": {},
   "outputs": [],
   "source": []
  },
  {
   "cell_type": "code",
   "execution_count": null,
   "id": "637ca24a-5805-41d2-93cb-ee2ca55d501a",
   "metadata": {},
   "outputs": [],
   "source": []
  },
  {
   "cell_type": "code",
   "execution_count": null,
   "id": "5f25b6a8-0362-4bdf-9e32-e8146410b8e5",
   "metadata": {},
   "outputs": [],
   "source": []
  },
  {
   "cell_type": "code",
   "execution_count": null,
   "id": "064496c0-5be0-49f1-9597-6d1ce022de89",
   "metadata": {},
   "outputs": [],
   "source": []
  },
  {
   "cell_type": "code",
   "execution_count": null,
   "id": "7cd98a6c-81b9-472b-8be7-9427e436601f",
   "metadata": {},
   "outputs": [],
   "source": []
  },
  {
   "cell_type": "code",
   "execution_count": null,
   "id": "d2c7f603-89bc-4400-a3cd-6c3f3dc4f559",
   "metadata": {},
   "outputs": [],
   "source": []
  },
  {
   "cell_type": "code",
   "execution_count": null,
   "id": "14ebae1f-8150-4571-990d-89b81d305ca7",
   "metadata": {},
   "outputs": [],
   "source": []
  },
  {
   "cell_type": "code",
   "execution_count": null,
   "id": "f8c949a7-2ce9-4f12-bdb4-879174114897",
   "metadata": {},
   "outputs": [],
   "source": []
  },
  {
   "cell_type": "code",
   "execution_count": null,
   "id": "66a3ffad-efe3-48bb-87c9-e1e7363fe419",
   "metadata": {},
   "outputs": [],
   "source": []
  },
  {
   "cell_type": "code",
   "execution_count": null,
   "id": "c9561ecc-eb18-4713-b0be-c59c6cb5bcf9",
   "metadata": {},
   "outputs": [],
   "source": []
  },
  {
   "cell_type": "markdown",
   "id": "a2a1eb84-5603-4ae8-b859-b696e0f613f8",
   "metadata": {},
   "source": [
    "### Segmented Univariate Analysis\n",
    "Approach:\n",
    "- Analyze single variable using:\n",
    "    - Summary Statistics\n",
    "    - Histograms\n",
    "    - Box plots\n",
    "        - Remove outliers\n",
    "    - Density plot"
   ]
  },
  {
   "cell_type": "markdown",
   "id": "c926f50b-cc11-4c70-aa4c-11792ce5a5d7",
   "metadata": {},
   "source": [
    "## `Analysing Terms`"
   ]
  },
  {
   "cell_type": "markdown",
   "id": "b64e7675-ecff-40b7-9974-0172c0774c28",
   "metadata": {},
   "source": [
    "The number of payments on the loan. Values are in months and can be either 36 or 60."
   ]
  },
  {
   "cell_type": "code",
   "execution_count": 130,
   "id": "a5826c44-a920-45d7-bedd-b1da48b253f5",
   "metadata": {},
   "outputs": [],
   "source": [
    "# sns.barplot(data['term'])\n",
    "# plt.title('Funded Loan Amount By Investors')\n",
    "# plt.show()"
   ]
  },
  {
   "cell_type": "code",
   "execution_count": null,
   "id": "a5491a48-5e1a-465f-b6f2-daa18c289073",
   "metadata": {},
   "outputs": [],
   "source": []
  },
  {
   "cell_type": "code",
   "execution_count": null,
   "id": "9b44748b-2cdb-4f28-a195-e4e34f987339",
   "metadata": {},
   "outputs": [],
   "source": []
  },
  {
   "cell_type": "code",
   "execution_count": null,
   "id": "f606536c-72a5-402e-b31e-5ae7faf45144",
   "metadata": {},
   "outputs": [],
   "source": []
  },
  {
   "cell_type": "markdown",
   "id": "e4f0c9b9-afed-4f81-b435-847a4e952130",
   "metadata": {},
   "source": [
    "### bivariate Analysis\n",
    "Approach:\n",
    "- Analyze single variable using:\n",
    "    - Scatter plots\n",
    "    - Correlation coefficient\n",
    "    - Line plots"
   ]
  },
  {
   "cell_type": "code",
   "execution_count": null,
   "id": "d2f42f7b-9855-4ee1-addb-b80e69eed8a8",
   "metadata": {},
   "outputs": [],
   "source": []
  },
  {
   "cell_type": "markdown",
   "id": "b097ce82-4669-4a81-9c0e-b8ad558aba92",
   "metadata": {},
   "source": [
    " ## `Analysing Annual Income and Experience`"
   ]
  },
  {
   "cell_type": "markdown",
   "id": "440a600c-d3ce-421b-992f-cd9cab618d4c",
   "metadata": {},
   "source": []
  },
  {
   "cell_type": "code",
   "execution_count": null,
   "id": "65558420-6115-4967-8305-47967f21ccd3",
   "metadata": {},
   "outputs": [],
   "source": [
    "sns.histplot(data=penguins, x=\"flipper_length_mm\", hue=\"species\")"
   ]
  },
  {
   "cell_type": "code",
   "execution_count": null,
   "id": "1bcb45d5-bfb5-4d6c-a2b1-6fad4b642b2a",
   "metadata": {},
   "outputs": [],
   "source": []
  },
  {
   "cell_type": "markdown",
   "id": "0e86df33-8f65-4f5c-8f3d-fbb9f5aa0b68",
   "metadata": {},
   "source": [
    "##### Observations:"
   ]
  },
  {
   "cell_type": "code",
   "execution_count": null,
   "id": "1e2bee8c-c5ff-4070-b1f4-da1e4bf67368",
   "metadata": {},
   "outputs": [],
   "source": []
  },
  {
   "cell_type": "markdown",
   "id": "4909428a-0ded-413f-b687-d2854c9af358",
   "metadata": {},
   "source": [
    " ## `Analysing ...`"
   ]
  },
  {
   "cell_type": "markdown",
   "id": "e61e29a8-e6cc-40f6-9423-1b11a904f402",
   "metadata": {},
   "source": []
  },
  {
   "cell_type": "code",
   "execution_count": null,
   "id": "f186ea38-0030-4700-8fd2-73bd71a15f90",
   "metadata": {},
   "outputs": [],
   "source": []
  },
  {
   "cell_type": "code",
   "execution_count": null,
   "id": "5bb86a1a-b3e3-4eef-a80d-40e233d060ec",
   "metadata": {},
   "outputs": [],
   "source": []
  },
  {
   "cell_type": "markdown",
   "id": "b71f4d70-0711-423b-a91e-e4d8a6d2ab12",
   "metadata": {},
   "source": [
    "##### Observations:"
   ]
  },
  {
   "cell_type": "code",
   "execution_count": null,
   "id": "df9225dc-6b27-4acd-80d3-6148a654b595",
   "metadata": {},
   "outputs": [],
   "source": []
  },
  {
   "cell_type": "markdown",
   "id": "a611dcde-1226-4c28-be43-30d5e141b908",
   "metadata": {},
   "source": [
    " ## `Analysing ...`"
   ]
  },
  {
   "cell_type": "markdown",
   "id": "c91836cc-bf19-4b66-a3c5-e0cef431b407",
   "metadata": {},
   "source": []
  },
  {
   "cell_type": "code",
   "execution_count": null,
   "id": "1baa7873-164c-4705-b4a0-0bb2514eece2",
   "metadata": {},
   "outputs": [],
   "source": []
  },
  {
   "cell_type": "code",
   "execution_count": null,
   "id": "8bf77e1e-65f3-45f8-9669-80e74ded1a7b",
   "metadata": {},
   "outputs": [],
   "source": []
  },
  {
   "cell_type": "markdown",
   "id": "ea871cd6-abce-4168-8a1b-7758159104af",
   "metadata": {},
   "source": [
    "##### Observations:"
   ]
  },
  {
   "cell_type": "code",
   "execution_count": null,
   "id": "f9b59cc3-bd0d-4605-be21-7a24c455e1e0",
   "metadata": {},
   "outputs": [],
   "source": []
  },
  {
   "cell_type": "markdown",
   "id": "3cddffec-594d-4e2d-ae0a-bade9444e94d",
   "metadata": {},
   "source": [
    " ## `Analysing ...`"
   ]
  },
  {
   "cell_type": "markdown",
   "id": "6c95d7bb-a753-444f-850b-8bdcfb50955e",
   "metadata": {},
   "source": []
  },
  {
   "cell_type": "code",
   "execution_count": null,
   "id": "5ea08e11-5a30-4faf-beb6-7ce273dad7de",
   "metadata": {},
   "outputs": [],
   "source": []
  },
  {
   "cell_type": "code",
   "execution_count": null,
   "id": "491aba7e-f6b1-4bbb-95b8-398cf0871123",
   "metadata": {},
   "outputs": [],
   "source": []
  },
  {
   "cell_type": "markdown",
   "id": "b75c3061-4523-4a5c-a633-44e3b5792bd9",
   "metadata": {},
   "source": [
    "##### Observations:"
   ]
  },
  {
   "cell_type": "code",
   "execution_count": null,
   "id": "16fa0e81-4d60-482c-b28c-f7c1c8d9b915",
   "metadata": {},
   "outputs": [],
   "source": []
  },
  {
   "cell_type": "markdown",
   "id": "5ce3c5c7-bb0a-4ed0-ba63-2c35e4cc7bda",
   "metadata": {},
   "source": [
    " ## `Analysing ...`"
   ]
  },
  {
   "cell_type": "markdown",
   "id": "60224424-2647-4785-8782-92328bcd35d9",
   "metadata": {},
   "source": []
  },
  {
   "cell_type": "code",
   "execution_count": null,
   "id": "22c8fe7c-2e60-421d-aa0e-0940c19f3771",
   "metadata": {},
   "outputs": [],
   "source": []
  },
  {
   "cell_type": "code",
   "execution_count": null,
   "id": "60d2af28-0bb0-456f-9d9a-173c51f93a0b",
   "metadata": {},
   "outputs": [],
   "source": []
  },
  {
   "cell_type": "markdown",
   "id": "b6c1d4ad-1032-41e0-8e66-9787f74913ec",
   "metadata": {},
   "source": [
    "##### Observations:"
   ]
  },
  {
   "cell_type": "markdown",
   "id": "3e35dc74-48bf-4395-b5fa-f27e777ece69",
   "metadata": {},
   "source": [
    " ## `Analysing ...`"
   ]
  },
  {
   "cell_type": "markdown",
   "id": "0e276880-8e43-4fa2-9ba4-595fd7b34a57",
   "metadata": {},
   "source": []
  },
  {
   "cell_type": "code",
   "execution_count": null,
   "id": "6c8f5c55-7abb-4be2-991c-e07ab7ba12ab",
   "metadata": {},
   "outputs": [],
   "source": []
  },
  {
   "cell_type": "code",
   "execution_count": null,
   "id": "7fe6a950-2df9-4a5c-b455-c7f0221de341",
   "metadata": {},
   "outputs": [],
   "source": []
  },
  {
   "cell_type": "markdown",
   "id": "0e020b3e-d6df-4401-87a8-5d3a55f23945",
   "metadata": {},
   "source": [
    "##### Observations:"
   ]
  },
  {
   "cell_type": "markdown",
   "id": "2010caaa-db80-490d-8433-67a81bf56568",
   "metadata": {},
   "source": [
    " ## `Analysing ...`"
   ]
  },
  {
   "cell_type": "markdown",
   "id": "ea2246d5-c08d-470b-a0f3-d9b590c86bbd",
   "metadata": {},
   "source": []
  },
  {
   "cell_type": "code",
   "execution_count": null,
   "id": "ed89103f-4a5c-4ad4-85b9-624b57fed011",
   "metadata": {},
   "outputs": [],
   "source": []
  },
  {
   "cell_type": "code",
   "execution_count": null,
   "id": "b394acd6-a565-41ca-a3dd-5f6cafa909ed",
   "metadata": {},
   "outputs": [],
   "source": []
  },
  {
   "cell_type": "markdown",
   "id": "3d9bbf13-33ce-464d-a248-27e228138ebc",
   "metadata": {},
   "source": [
    "##### Observations:"
   ]
  },
  {
   "cell_type": "markdown",
   "id": "44340ce4-1975-4be5-94ae-68248ff463db",
   "metadata": {},
   "source": [
    " ## `Analysing ...`"
   ]
  },
  {
   "cell_type": "markdown",
   "id": "e57a9b8c-acd6-4d07-9229-5c6f21a0a824",
   "metadata": {},
   "source": []
  },
  {
   "cell_type": "code",
   "execution_count": null,
   "id": "3ed37493-1d6b-4a97-804b-a153b6575090",
   "metadata": {},
   "outputs": [],
   "source": []
  },
  {
   "cell_type": "code",
   "execution_count": null,
   "id": "089d8171-7305-48ed-9d85-e1252447fbec",
   "metadata": {},
   "outputs": [],
   "source": []
  },
  {
   "cell_type": "markdown",
   "id": "6424cbcf-3d0a-4657-bf4f-27413e6b0234",
   "metadata": {},
   "source": [
    "##### Observations:"
   ]
  },
  {
   "cell_type": "markdown",
   "id": "4173035d-7780-4944-a5d1-d03a38385cc9",
   "metadata": {},
   "source": [
    " ## `Analysing ...`"
   ]
  },
  {
   "cell_type": "markdown",
   "id": "aae6b043-a2ef-40a1-8539-b99ca3f5841d",
   "metadata": {},
   "source": []
  },
  {
   "cell_type": "code",
   "execution_count": null,
   "id": "9c5df114-f0ea-49b9-bd1d-7dc3105c5847",
   "metadata": {},
   "outputs": [],
   "source": []
  },
  {
   "cell_type": "code",
   "execution_count": null,
   "id": "65045acd-66cd-450c-8ad5-86fcad744fd4",
   "metadata": {},
   "outputs": [],
   "source": []
  },
  {
   "cell_type": "markdown",
   "id": "f7532ba6-03f2-462c-bb5c-ef8a53261ec9",
   "metadata": {},
   "source": [
    "##### Observations:"
   ]
  },
  {
   "cell_type": "markdown",
   "id": "5f66aef2-5770-434e-830e-e9286fcde2d6",
   "metadata": {},
   "source": [
    " ## `Analysing ...`"
   ]
  },
  {
   "cell_type": "markdown",
   "id": "a82cdd13-a103-40f1-b5de-60a72a42352a",
   "metadata": {},
   "source": []
  },
  {
   "cell_type": "code",
   "execution_count": null,
   "id": "c92fdec5-10c8-4082-910f-641a197b5168",
   "metadata": {},
   "outputs": [],
   "source": []
  },
  {
   "cell_type": "code",
   "execution_count": null,
   "id": "a16e8115-6c63-40f5-afcd-25de0eb81e9c",
   "metadata": {},
   "outputs": [],
   "source": []
  },
  {
   "cell_type": "markdown",
   "id": "5fef8eb5-81a5-413d-a282-566849517b1f",
   "metadata": {},
   "source": [
    "##### Observations:"
   ]
  },
  {
   "cell_type": "code",
   "execution_count": null,
   "id": "69f667eb-5620-4048-b45f-79ead30e654f",
   "metadata": {},
   "outputs": [],
   "source": []
  },
  {
   "cell_type": "code",
   "execution_count": null,
   "id": "aa420d3d-39d5-4dd2-a2f4-27f854394a89",
   "metadata": {},
   "outputs": [],
   "source": []
  },
  {
   "cell_type": "code",
   "execution_count": null,
   "id": "13fa7b51-448e-45f5-af1e-106daeccaff1",
   "metadata": {},
   "outputs": [],
   "source": []
  },
  {
   "cell_type": "code",
   "execution_count": null,
   "id": "fbbd5f90-aee6-4c4c-a8b9-fcda87a8e62d",
   "metadata": {},
   "outputs": [],
   "source": []
  },
  {
   "cell_type": "code",
   "execution_count": null,
   "id": "8b5119c0-e3da-4fd9-9d79-00ff839ab87a",
   "metadata": {},
   "outputs": [],
   "source": []
  },
  {
   "cell_type": "code",
   "execution_count": null,
   "id": "0bff4f35-6340-4b94-964c-c7df729169bf",
   "metadata": {},
   "outputs": [],
   "source": []
  },
  {
   "cell_type": "code",
   "execution_count": null,
   "id": "b759e030-a9f2-4378-9611-ec00e7b636fd",
   "metadata": {},
   "outputs": [],
   "source": []
  },
  {
   "cell_type": "code",
   "execution_count": null,
   "id": "aef80e55-25a2-478d-9b54-924608e73559",
   "metadata": {},
   "outputs": [],
   "source": []
  },
  {
   "cell_type": "code",
   "execution_count": null,
   "id": "bf5e44d1-ac8b-408b-8f63-d13b33f3d524",
   "metadata": {},
   "outputs": [],
   "source": []
  },
  {
   "cell_type": "code",
   "execution_count": null,
   "id": "7c453623-32b8-450b-9715-d0516e3067fc",
   "metadata": {},
   "outputs": [],
   "source": []
  },
  {
   "cell_type": "code",
   "execution_count": null,
   "id": "fc89cc2c-e80d-4c47-a1fe-7407f0bcd59b",
   "metadata": {},
   "outputs": [],
   "source": []
  },
  {
   "cell_type": "code",
   "execution_count": null,
   "id": "f89ed451-ad1e-44df-8333-94d135b27469",
   "metadata": {},
   "outputs": [],
   "source": []
  },
  {
   "cell_type": "code",
   "execution_count": null,
   "id": "66b3cf8c-a082-4d71-b48f-f72c0ab07c05",
   "metadata": {},
   "outputs": [],
   "source": []
  },
  {
   "cell_type": "code",
   "execution_count": null,
   "id": "36eb58ab-2df4-425d-88b7-2ff994c16c2b",
   "metadata": {},
   "outputs": [],
   "source": []
  },
  {
   "cell_type": "code",
   "execution_count": null,
   "id": "d899b263-97ab-47f1-8c6b-1848683fc779",
   "metadata": {},
   "outputs": [],
   "source": []
  },
  {
   "cell_type": "code",
   "execution_count": null,
   "id": "40e9c1ea-4b15-4423-80bf-935e3186cdf4",
   "metadata": {},
   "outputs": [],
   "source": []
  },
  {
   "cell_type": "code",
   "execution_count": null,
   "id": "e7e6c2f9-1ed7-442c-868f-9a2074e9ce1e",
   "metadata": {},
   "outputs": [],
   "source": []
  },
  {
   "cell_type": "code",
   "execution_count": null,
   "id": "fd2ab70a-5583-4bee-9259-338c5824084e",
   "metadata": {},
   "outputs": [],
   "source": []
  },
  {
   "cell_type": "code",
   "execution_count": null,
   "id": "cef054e1-71b9-43b9-a83b-bfbf5753471a",
   "metadata": {},
   "outputs": [],
   "source": []
  },
  {
   "cell_type": "code",
   "execution_count": null,
   "id": "4c742810-b380-41f4-ade2-07e8bb0aebbb",
   "metadata": {},
   "outputs": [],
   "source": []
  },
  {
   "cell_type": "code",
   "execution_count": null,
   "id": "666d459a-98b1-4e5c-9914-d664211c7373",
   "metadata": {},
   "outputs": [],
   "source": []
  },
  {
   "cell_type": "code",
   "execution_count": null,
   "id": "fbd7e447-d930-42e0-b661-e6f38b6144b5",
   "metadata": {},
   "outputs": [],
   "source": []
  },
  {
   "cell_type": "code",
   "execution_count": null,
   "id": "0b252eb1-176b-4130-af8f-2975c4be75a6",
   "metadata": {},
   "outputs": [],
   "source": []
  },
  {
   "cell_type": "code",
   "execution_count": null,
   "id": "61de78c2-949d-492e-a60e-1f808f5c7260",
   "metadata": {},
   "outputs": [],
   "source": []
  },
  {
   "cell_type": "code",
   "execution_count": null,
   "id": "e9559de9-cdd0-42f7-bdd8-008dec133858",
   "metadata": {},
   "outputs": [],
   "source": []
  },
  {
   "cell_type": "code",
   "execution_count": null,
   "id": "54454639-a26b-49c2-84d3-cbd80829953a",
   "metadata": {},
   "outputs": [],
   "source": []
  },
  {
   "cell_type": "code",
   "execution_count": null,
   "id": "be827f11-c6e8-408c-bc9a-757eaf806640",
   "metadata": {},
   "outputs": [],
   "source": []
  },
  {
   "cell_type": "code",
   "execution_count": null,
   "id": "7a3ff487-97fd-4cbb-b374-52c28591bb36",
   "metadata": {},
   "outputs": [],
   "source": []
  },
  {
   "cell_type": "code",
   "execution_count": null,
   "id": "92d43ac3-87f9-4e09-be80-1ac78245e8c8",
   "metadata": {},
   "outputs": [],
   "source": []
  }
 ],
 "metadata": {
  "kernelspec": {
   "display_name": "Python 3 (ipykernel)",
   "language": "python",
   "name": "python3"
  },
  "language_info": {
   "codemirror_mode": {
    "name": "ipython",
    "version": 3
   },
   "file_extension": ".py",
   "mimetype": "text/x-python",
   "name": "python",
   "nbconvert_exporter": "python",
   "pygments_lexer": "ipython3",
   "version": "3.11.7"
  }
 },
 "nbformat": 4,
 "nbformat_minor": 5
}
